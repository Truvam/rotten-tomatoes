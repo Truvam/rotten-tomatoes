{
 "cells": [
  {
   "cell_type": "markdown",
   "metadata": {},
   "source": [
    "# MOVIES RECOMMENDATION"
   ]
  },
  {
   "cell_type": "markdown",
   "metadata": {},
   "source": [
    "# Table of Contents\n",
    "   * [Introduction](#Introduction)\n",
    "   * [Problem definition, exploratory data analysis and pre-processing steps](#Problem-definition,-exploratory-data-analysis-and-pre-processing-steps)\n",
    "      - [Problem definition](#Problem-definition)\n",
    "      - [Pre-Processing](#Pre-Processing)\n",
    "      - [Exploratory Data Analysis](#Exploratory-Data-Analysis)\n",
    "   * [Experimental Setup and Obtained Results](#Experimental-Setup-and-Obtained-Resultss)\n",
    "      - [1. BINARY](#1.-BINARY)\n",
    "          - [a) Popularity](#(a)--Popularity:)\n",
    "          - [b) Association Rules](#(b)--Association-Rules:)\n",
    "          - [c) Collaborative Filtering](#(c)--Collaborative-Filtering:)\n",
    "      - [2. BINARY](#1.-BINARY)\n",
    "          - [a) Popularity](#(a)-Popularity:)\n",
    "          - [b) Association Rules](#(b)-Association-Rules:)\n",
    "          - [c) Collaborative Filtering](#(c)-Collaborative-Filtering:)\n",
    "      - [3. Context-Aware Recommendation](#3.-Context-Aware-Recommendation)\n",
    "   * [Conclusions, shortcomings and future work](#Conclusions,-shortcomings-and-future-work)\n",
    "   * [References](#References)\n",
    "          "
   ]
  },
  {
   "cell_type": "markdown",
   "metadata": {},
   "source": [
    "# Introduction\n",
    "In this practical assignment, our objective is to obtain recommendations of movies as well as to compare the performance of different recommendation strategies on a data set obtained from RottenTomatoes.\n",
    "This data set is splited in two files:\n",
    "* movies.tsv: which contains basic movie information\n",
    "* reviews.tsv: which contains reviews that critics have given to a movie\n",
    "\n",
    "This assignment consists of three main tasks:\n",
    "1. Preliminary exploratory data analysis\n",
    "2. From binary and non-binary data, learn recommender systems based on:\n",
    "  * Popularity\n",
    "  * Association Rules\n",
    "  * Collaborative Filtering\n",
    "3. Context-aware recommendation\n",
    "\n",
    "First of all, we started by loading the data sets into variables"
   ]
  },
  {
   "cell_type": "code",
   "execution_count": 1,
   "metadata": {},
   "outputs": [],
   "source": [
    "import pandas as pd\n",
    "\n",
    "reviews = pd.read_csv(\"reviews.tsv\", sep=\"\\t\")\n",
    "movie_info = pd.read_csv(\"movie_info.tsv\", sep=\"\\t\")"
   ]
  },
  {
   "cell_type": "code",
   "execution_count": 2,
   "metadata": {
    "scrolled": true
   },
   "outputs": [
    {
     "data": {
      "text/html": [
       "<div>\n",
       "<style scoped>\n",
       "    .dataframe tbody tr th:only-of-type {\n",
       "        vertical-align: middle;\n",
       "    }\n",
       "\n",
       "    .dataframe tbody tr th {\n",
       "        vertical-align: top;\n",
       "    }\n",
       "\n",
       "    .dataframe thead th {\n",
       "        text-align: right;\n",
       "    }\n",
       "</style>\n",
       "<table border=\"1\" class=\"dataframe\">\n",
       "  <thead>\n",
       "    <tr style=\"text-align: right;\">\n",
       "      <th></th>\n",
       "      <th>id</th>\n",
       "      <th>review</th>\n",
       "      <th>rating</th>\n",
       "      <th>fresh</th>\n",
       "      <th>critic</th>\n",
       "      <th>top_critic</th>\n",
       "      <th>publisher</th>\n",
       "      <th>date</th>\n",
       "    </tr>\n",
       "  </thead>\n",
       "  <tbody>\n",
       "    <tr>\n",
       "      <th>0</th>\n",
       "      <td>3</td>\n",
       "      <td>A distinctly gallows take on contemporary fina...</td>\n",
       "      <td>3/5</td>\n",
       "      <td>fresh</td>\n",
       "      <td>PJ Nabarro</td>\n",
       "      <td>0</td>\n",
       "      <td>Patrick Nabarro</td>\n",
       "      <td>November 10, 2018</td>\n",
       "    </tr>\n",
       "    <tr>\n",
       "      <th>1</th>\n",
       "      <td>3</td>\n",
       "      <td>It's an allegory in search of a meaning that n...</td>\n",
       "      <td>NaN</td>\n",
       "      <td>rotten</td>\n",
       "      <td>Annalee Newitz</td>\n",
       "      <td>0</td>\n",
       "      <td>io9.com</td>\n",
       "      <td>May 23, 2018</td>\n",
       "    </tr>\n",
       "    <tr>\n",
       "      <th>2</th>\n",
       "      <td>3</td>\n",
       "      <td>... life lived in a bubble in financial dealin...</td>\n",
       "      <td>NaN</td>\n",
       "      <td>fresh</td>\n",
       "      <td>Sean Axmaker</td>\n",
       "      <td>0</td>\n",
       "      <td>Stream on Demand</td>\n",
       "      <td>January 4, 2018</td>\n",
       "    </tr>\n",
       "    <tr>\n",
       "      <th>3</th>\n",
       "      <td>3</td>\n",
       "      <td>Continuing along a line introduced in last yea...</td>\n",
       "      <td>NaN</td>\n",
       "      <td>fresh</td>\n",
       "      <td>Daniel Kasman</td>\n",
       "      <td>0</td>\n",
       "      <td>MUBI</td>\n",
       "      <td>November 16, 2017</td>\n",
       "    </tr>\n",
       "    <tr>\n",
       "      <th>4</th>\n",
       "      <td>3</td>\n",
       "      <td>... a perverse twist on neorealism...</td>\n",
       "      <td>NaN</td>\n",
       "      <td>fresh</td>\n",
       "      <td>NaN</td>\n",
       "      <td>0</td>\n",
       "      <td>Cinema Scope</td>\n",
       "      <td>October 12, 2017</td>\n",
       "    </tr>\n",
       "  </tbody>\n",
       "</table>\n",
       "</div>"
      ],
      "text/plain": [
       "   id                                             review rating   fresh  \\\n",
       "0   3  A distinctly gallows take on contemporary fina...    3/5   fresh   \n",
       "1   3  It's an allegory in search of a meaning that n...    NaN  rotten   \n",
       "2   3  ... life lived in a bubble in financial dealin...    NaN   fresh   \n",
       "3   3  Continuing along a line introduced in last yea...    NaN   fresh   \n",
       "4   3             ... a perverse twist on neorealism...     NaN   fresh   \n",
       "\n",
       "           critic  top_critic         publisher               date  \n",
       "0      PJ Nabarro           0   Patrick Nabarro  November 10, 2018  \n",
       "1  Annalee Newitz           0           io9.com       May 23, 2018  \n",
       "2    Sean Axmaker           0  Stream on Demand    January 4, 2018  \n",
       "3   Daniel Kasman           0              MUBI  November 16, 2017  \n",
       "4             NaN           0      Cinema Scope   October 12, 2017  "
      ]
     },
     "execution_count": 2,
     "metadata": {},
     "output_type": "execute_result"
    }
   ],
   "source": [
    "reviews.head()"
   ]
  },
  {
   "cell_type": "code",
   "execution_count": 3,
   "metadata": {
    "scrolled": false
   },
   "outputs": [
    {
     "data": {
      "text/html": [
       "<div>\n",
       "<style scoped>\n",
       "    .dataframe tbody tr th:only-of-type {\n",
       "        vertical-align: middle;\n",
       "    }\n",
       "\n",
       "    .dataframe tbody tr th {\n",
       "        vertical-align: top;\n",
       "    }\n",
       "\n",
       "    .dataframe thead th {\n",
       "        text-align: right;\n",
       "    }\n",
       "</style>\n",
       "<table border=\"1\" class=\"dataframe\">\n",
       "  <thead>\n",
       "    <tr style=\"text-align: right;\">\n",
       "      <th></th>\n",
       "      <th>id</th>\n",
       "      <th>synopsis</th>\n",
       "      <th>rating</th>\n",
       "      <th>genre</th>\n",
       "      <th>director</th>\n",
       "      <th>writer</th>\n",
       "      <th>theater_date</th>\n",
       "      <th>dvd_date</th>\n",
       "      <th>currency</th>\n",
       "      <th>box_office</th>\n",
       "      <th>runtime</th>\n",
       "      <th>studio</th>\n",
       "    </tr>\n",
       "  </thead>\n",
       "  <tbody>\n",
       "    <tr>\n",
       "      <th>0</th>\n",
       "      <td>1</td>\n",
       "      <td>This gritty, fast-paced, and innovative police...</td>\n",
       "      <td>R</td>\n",
       "      <td>Action and Adventure|Classics|Drama</td>\n",
       "      <td>William Friedkin</td>\n",
       "      <td>Ernest Tidyman</td>\n",
       "      <td>Oct 9, 1971</td>\n",
       "      <td>Sep 25, 2001</td>\n",
       "      <td>NaN</td>\n",
       "      <td>NaN</td>\n",
       "      <td>104 minutes</td>\n",
       "      <td>NaN</td>\n",
       "    </tr>\n",
       "    <tr>\n",
       "      <th>1</th>\n",
       "      <td>3</td>\n",
       "      <td>New York City, not-too-distant-future: Eric Pa...</td>\n",
       "      <td>R</td>\n",
       "      <td>Drama|Science Fiction and Fantasy</td>\n",
       "      <td>David Cronenberg</td>\n",
       "      <td>David Cronenberg|Don DeLillo</td>\n",
       "      <td>Aug 17, 2012</td>\n",
       "      <td>Jan 1, 2013</td>\n",
       "      <td>$</td>\n",
       "      <td>600,000</td>\n",
       "      <td>108 minutes</td>\n",
       "      <td>Entertainment One</td>\n",
       "    </tr>\n",
       "    <tr>\n",
       "      <th>2</th>\n",
       "      <td>5</td>\n",
       "      <td>Illeana Douglas delivers a superb performance ...</td>\n",
       "      <td>R</td>\n",
       "      <td>Drama|Musical and Performing Arts</td>\n",
       "      <td>Allison Anders</td>\n",
       "      <td>Allison Anders</td>\n",
       "      <td>Sep 13, 1996</td>\n",
       "      <td>Apr 18, 2000</td>\n",
       "      <td>NaN</td>\n",
       "      <td>NaN</td>\n",
       "      <td>116 minutes</td>\n",
       "      <td>NaN</td>\n",
       "    </tr>\n",
       "    <tr>\n",
       "      <th>3</th>\n",
       "      <td>6</td>\n",
       "      <td>Michael Douglas runs afoul of a treacherous su...</td>\n",
       "      <td>R</td>\n",
       "      <td>Drama|Mystery and Suspense</td>\n",
       "      <td>Barry Levinson</td>\n",
       "      <td>Paul Attanasio|Michael Crichton</td>\n",
       "      <td>Dec 9, 1994</td>\n",
       "      <td>Aug 27, 1997</td>\n",
       "      <td>NaN</td>\n",
       "      <td>NaN</td>\n",
       "      <td>128 minutes</td>\n",
       "      <td>NaN</td>\n",
       "    </tr>\n",
       "    <tr>\n",
       "      <th>4</th>\n",
       "      <td>7</td>\n",
       "      <td>NaN</td>\n",
       "      <td>NR</td>\n",
       "      <td>Drama|Romance</td>\n",
       "      <td>Rodney Bennett</td>\n",
       "      <td>Giles Cooper</td>\n",
       "      <td>NaN</td>\n",
       "      <td>NaN</td>\n",
       "      <td>NaN</td>\n",
       "      <td>NaN</td>\n",
       "      <td>200 minutes</td>\n",
       "      <td>NaN</td>\n",
       "    </tr>\n",
       "  </tbody>\n",
       "</table>\n",
       "</div>"
      ],
      "text/plain": [
       "   id                                           synopsis rating  \\\n",
       "0   1  This gritty, fast-paced, and innovative police...      R   \n",
       "1   3  New York City, not-too-distant-future: Eric Pa...      R   \n",
       "2   5  Illeana Douglas delivers a superb performance ...      R   \n",
       "3   6  Michael Douglas runs afoul of a treacherous su...      R   \n",
       "4   7                                                NaN     NR   \n",
       "\n",
       "                                 genre          director  \\\n",
       "0  Action and Adventure|Classics|Drama  William Friedkin   \n",
       "1    Drama|Science Fiction and Fantasy  David Cronenberg   \n",
       "2    Drama|Musical and Performing Arts    Allison Anders   \n",
       "3           Drama|Mystery and Suspense    Barry Levinson   \n",
       "4                        Drama|Romance    Rodney Bennett   \n",
       "\n",
       "                            writer  theater_date      dvd_date currency  \\\n",
       "0                   Ernest Tidyman   Oct 9, 1971  Sep 25, 2001      NaN   \n",
       "1     David Cronenberg|Don DeLillo  Aug 17, 2012   Jan 1, 2013        $   \n",
       "2                   Allison Anders  Sep 13, 1996  Apr 18, 2000      NaN   \n",
       "3  Paul Attanasio|Michael Crichton   Dec 9, 1994  Aug 27, 1997      NaN   \n",
       "4                     Giles Cooper           NaN           NaN      NaN   \n",
       "\n",
       "  box_office      runtime             studio  \n",
       "0        NaN  104 minutes                NaN  \n",
       "1    600,000  108 minutes  Entertainment One  \n",
       "2        NaN  116 minutes                NaN  \n",
       "3        NaN  128 minutes                NaN  \n",
       "4        NaN  200 minutes                NaN  "
      ]
     },
     "execution_count": 3,
     "metadata": {},
     "output_type": "execute_result"
    }
   ],
   "source": [
    "movie_info.head()"
   ]
  },
  {
   "cell_type": "markdown",
   "metadata": {},
   "source": [
    "# Problem definition, exploratory data analysis and pre-processing steps\n",
    "In this step, our first objective was to analyze the data, in order to know what was or was not necessary to us. For this we start by printing some information such as can be seen below:\n",
    "\n",
    "\n",
    "What was done:\n",
    "* Removed reviews with no rating or review;\n",
    "* Converted all ratings to one single scale /10;\n",
    "* TODO"
   ]
  },
  {
   "cell_type": "code",
   "execution_count": 4,
   "metadata": {
    "scrolled": true
   },
   "outputs": [
    {
     "name": "stdout",
     "output_type": "stream",
     "text": [
      "Number of reviews:  54432\n",
      "Number of movies:  1560\n"
     ]
    }
   ],
   "source": [
    "print(\"Number of reviews: \", len(reviews))\n",
    "print(\"Number of movies: \", len(movie_info))"
   ]
  },
  {
   "cell_type": "markdown",
   "metadata": {},
   "source": [
    "Find movies that have been reviewed"
   ]
  },
  {
   "cell_type": "code",
   "execution_count": 5,
   "metadata": {},
   "outputs": [
    {
     "name": "stdout",
     "output_type": "stream",
     "text": [
      "Number of movies that have been reviewed:  1135\n"
     ]
    }
   ],
   "source": [
    "print(\"Number of movies that have been reviewed: \", len(reviews['id'].unique()))"
   ]
  },
  {
   "cell_type": "markdown",
   "metadata": {},
   "source": [
    "Find movies that haven't been reviewed"
   ]
  },
  {
   "cell_type": "code",
   "execution_count": 6,
   "metadata": {},
   "outputs": [
    {
     "name": "stdout",
     "output_type": "stream",
     "text": [
      "Number of movies that haven't been reviewed:  425\n"
     ]
    }
   ],
   "source": [
    "print(\"Number of movies that haven't been reviewed: \", len(movie_info)- len(reviews['id'].unique()))"
   ]
  },
  {
   "cell_type": "markdown",
   "metadata": {},
   "source": [
    "Find reviews with no rating"
   ]
  },
  {
   "cell_type": "code",
   "execution_count": 7,
   "metadata": {},
   "outputs": [
    {
     "name": "stdout",
     "output_type": "stream",
     "text": [
      "Number of reviews with no rating:  13517\n"
     ]
    }
   ],
   "source": [
    "print(\"Number of reviews with no rating: \", len(reviews.loc[reviews['rating'].isnull()]))"
   ]
  },
  {
   "cell_type": "markdown",
   "metadata": {},
   "source": [
    "Find reviews with no rating and no review"
   ]
  },
  {
   "cell_type": "code",
   "execution_count": 8,
   "metadata": {},
   "outputs": [
    {
     "name": "stdout",
     "output_type": "stream",
     "text": [
      "Number of reviews with no rating and review: 27\n"
     ]
    }
   ],
   "source": [
    "print(\"Number of reviews with no rating and review:\", len(reviews.loc[reviews['rating'].isnull() & reviews['review'].isnull()]))"
   ]
  },
  {
   "cell_type": "markdown",
   "metadata": {},
   "source": [
    "The first thing we've noticed was that there are 13517 reviews with no rating (24.83% of reviews). And there are 27 reviews with no rating and a review (0.05% of reviews), that is, those reviews only have the fresh parameter. \n",
    "That said, we decided to discard reviews that have no rating, and reviews that only have information about the fresh parameter, so that the number of reviews analyzed for recommendations based on binary and non-binary data are the same.\n",
    "\n",
    "Regarding the movie data, of the 1560 movies that exist in the dataset, 425 did not have any reviews made (27% of the movies), that said, we've decided to only take into account movies that were reviewed."
   ]
  },
  {
   "cell_type": "markdown",
   "metadata": {},
   "source": [
    "## Pre-Processing "
   ]
  },
  {
   "cell_type": "code",
   "execution_count": 9,
   "metadata": {},
   "outputs": [],
   "source": [
    "from pre_processing import *"
   ]
  },
  {
   "cell_type": "markdown",
   "metadata": {},
   "source": [
    "Remove reviews with no rating"
   ]
  },
  {
   "cell_type": "code",
   "execution_count": 10,
   "metadata": {},
   "outputs": [],
   "source": [
    "reviews_bf = reviews.copy()\n",
    "reviews = reviews.loc[~reviews['rating'].isnull()]"
   ]
  },
  {
   "cell_type": "markdown",
   "metadata": {},
   "source": [
    "Remove movies that dont have reviews"
   ]
  },
  {
   "cell_type": "code",
   "execution_count": 11,
   "metadata": {},
   "outputs": [],
   "source": [
    "# Get all unique ids from reviews\n",
    "reviews_ids = list(set(reviews['id'].tolist()))\n",
    "\n",
    "movie_info = movie_info[movie_info['id'].isin(reviews_ids)]"
   ]
  },
  {
   "cell_type": "markdown",
   "metadata": {},
   "source": [
    "### Ratings\n",
    "Regarding the ratings given in reviews, due to the fact that there are several scales (star scale (1-5), 1-10 continuous scale, letter grades, etc.), we have chosen to convert all the ratings to a single scale, that scale beeing from 0 to 10.\n",
    "```\n",
    "Converting all ratings to one single scale /10\n",
    "For any v/m , being v the value and m the max value in the scale, the new rating will be (v * 10)/m\n",
    "Note: We haven't been able to convert: \n",
    "        Single numbers like ['1', '6', ...] since we don't know the corresponding scale.\n",
    "        Also cases where the rating given is bigger than the scale e.g.(3/2)\n",
    "Scales that we cannot convert we've decided to discarded\n",
    "```"
   ]
  },
  {
   "cell_type": "code",
   "execution_count": 12,
   "metadata": {},
   "outputs": [
    {
     "data": {
      "text/html": [
       "<div>\n",
       "<style scoped>\n",
       "    .dataframe tbody tr th:only-of-type {\n",
       "        vertical-align: middle;\n",
       "    }\n",
       "\n",
       "    .dataframe tbody tr th {\n",
       "        vertical-align: top;\n",
       "    }\n",
       "\n",
       "    .dataframe thead th {\n",
       "        text-align: right;\n",
       "    }\n",
       "</style>\n",
       "<table border=\"1\" class=\"dataframe\">\n",
       "  <thead>\n",
       "    <tr style=\"text-align: right;\">\n",
       "      <th></th>\n",
       "      <th>id</th>\n",
       "      <th>review</th>\n",
       "      <th>rating</th>\n",
       "      <th>fresh</th>\n",
       "      <th>critic</th>\n",
       "      <th>top_critic</th>\n",
       "      <th>publisher</th>\n",
       "      <th>date</th>\n",
       "    </tr>\n",
       "  </thead>\n",
       "  <tbody>\n",
       "    <tr>\n",
       "      <th>0</th>\n",
       "      <td>3</td>\n",
       "      <td>A distinctly gallows take on contemporary fina...</td>\n",
       "      <td>6.000000</td>\n",
       "      <td>fresh</td>\n",
       "      <td>PJ Nabarro</td>\n",
       "      <td>0</td>\n",
       "      <td>Patrick Nabarro</td>\n",
       "      <td>November 10, 2018</td>\n",
       "    </tr>\n",
       "    <tr>\n",
       "      <th>6</th>\n",
       "      <td>3</td>\n",
       "      <td>Quickly grows repetitive and tiresome, meander...</td>\n",
       "      <td>4.166667</td>\n",
       "      <td>rotten</td>\n",
       "      <td>Eric D. Snider</td>\n",
       "      <td>0</td>\n",
       "      <td>EricDSnider.com</td>\n",
       "      <td>July 17, 2013</td>\n",
       "    </tr>\n",
       "    <tr>\n",
       "      <th>7</th>\n",
       "      <td>3</td>\n",
       "      <td>Cronenberg is not a director to be daunted by ...</td>\n",
       "      <td>4.000000</td>\n",
       "      <td>rotten</td>\n",
       "      <td>Matt Kelemen</td>\n",
       "      <td>0</td>\n",
       "      <td>Las Vegas CityLife</td>\n",
       "      <td>April 21, 2013</td>\n",
       "    </tr>\n",
       "    <tr>\n",
       "      <th>11</th>\n",
       "      <td>3</td>\n",
       "      <td>While not one of Cronenberg's stronger films, ...</td>\n",
       "      <td>5.833333</td>\n",
       "      <td>fresh</td>\n",
       "      <td>Emanuel Levy</td>\n",
       "      <td>0</td>\n",
       "      <td>EmanuelLevy.Com</td>\n",
       "      <td>February 3, 2013</td>\n",
       "    </tr>\n",
       "    <tr>\n",
       "      <th>12</th>\n",
       "      <td>3</td>\n",
       "      <td>Robert Pattinson works mighty hard to make Cos...</td>\n",
       "      <td>5.000000</td>\n",
       "      <td>rotten</td>\n",
       "      <td>Christian Toto</td>\n",
       "      <td>0</td>\n",
       "      <td>Big Hollywood</td>\n",
       "      <td>January 15, 2013</td>\n",
       "    </tr>\n",
       "  </tbody>\n",
       "</table>\n",
       "</div>"
      ],
      "text/plain": [
       "    id                                             review    rating   fresh  \\\n",
       "0    3  A distinctly gallows take on contemporary fina...  6.000000   fresh   \n",
       "6    3  Quickly grows repetitive and tiresome, meander...  4.166667  rotten   \n",
       "7    3  Cronenberg is not a director to be daunted by ...  4.000000  rotten   \n",
       "11   3  While not one of Cronenberg's stronger films, ...  5.833333   fresh   \n",
       "12   3  Robert Pattinson works mighty hard to make Cos...  5.000000  rotten   \n",
       "\n",
       "            critic  top_critic           publisher               date  \n",
       "0       PJ Nabarro           0     Patrick Nabarro  November 10, 2018  \n",
       "6   Eric D. Snider           0     EricDSnider.com      July 17, 2013  \n",
       "7     Matt Kelemen           0  Las Vegas CityLife     April 21, 2013  \n",
       "11    Emanuel Levy           0     EmanuelLevy.Com   February 3, 2013  \n",
       "12  Christian Toto           0       Big Hollywood   January 15, 2013  "
      ]
     },
     "execution_count": 12,
     "metadata": {},
     "output_type": "execute_result"
    }
   ],
   "source": [
    "convert_ratings(reviews)\n",
    "\n",
    "# Remove reviews with no scale\n",
    "reviews = reviews.loc[~reviews['rating'].isnull()]\n",
    "reviews.head()"
   ]
  },
  {
   "cell_type": "markdown",
   "metadata": {},
   "source": [
    "### Creating necessary variables and DataFrames"
   ]
  },
  {
   "cell_type": "code",
   "execution_count": 13,
   "metadata": {},
   "outputs": [
    {
     "data": {
      "text/html": [
       "<div>\n",
       "<style scoped>\n",
       "    .dataframe tbody tr th:only-of-type {\n",
       "        vertical-align: middle;\n",
       "    }\n",
       "\n",
       "    .dataframe tbody tr th {\n",
       "        vertical-align: top;\n",
       "    }\n",
       "\n",
       "    .dataframe thead th {\n",
       "        text-align: right;\n",
       "    }\n",
       "</style>\n",
       "<table border=\"1\" class=\"dataframe\">\n",
       "  <thead>\n",
       "    <tr style=\"text-align: right;\">\n",
       "      <th></th>\n",
       "      <th>critic_uid</th>\n",
       "      <th>id</th>\n",
       "      <th>rating</th>\n",
       "    </tr>\n",
       "  </thead>\n",
       "  <tbody>\n",
       "    <tr>\n",
       "      <th>0</th>\n",
       "      <td>0</td>\n",
       "      <td>3</td>\n",
       "      <td>6.000000</td>\n",
       "    </tr>\n",
       "    <tr>\n",
       "      <th>6</th>\n",
       "      <td>1</td>\n",
       "      <td>3</td>\n",
       "      <td>4.166667</td>\n",
       "    </tr>\n",
       "    <tr>\n",
       "      <th>7</th>\n",
       "      <td>2</td>\n",
       "      <td>3</td>\n",
       "      <td>4.000000</td>\n",
       "    </tr>\n",
       "    <tr>\n",
       "      <th>11</th>\n",
       "      <td>3</td>\n",
       "      <td>3</td>\n",
       "      <td>5.833333</td>\n",
       "    </tr>\n",
       "    <tr>\n",
       "      <th>12</th>\n",
       "      <td>4</td>\n",
       "      <td>3</td>\n",
       "      <td>5.000000</td>\n",
       "    </tr>\n",
       "  </tbody>\n",
       "</table>\n",
       "</div>"
      ],
      "text/plain": [
       "    critic_uid  id    rating\n",
       "0            0   3  6.000000\n",
       "6            1   3  4.166667\n",
       "7            2   3  4.000000\n",
       "11           3   3  5.833333\n",
       "12           4   3  5.000000"
      ]
     },
     "execution_count": 13,
     "metadata": {},
     "output_type": "execute_result"
    }
   ],
   "source": [
    "reviews_rs, critics, critic_uid = create_rs_df(reviews)\n",
    "reviews_rs.head()"
   ]
  },
  {
   "cell_type": "code",
   "execution_count": 14,
   "metadata": {},
   "outputs": [
    {
     "data": {
      "text/html": [
       "<div>\n",
       "<style scoped>\n",
       "    .dataframe tbody tr th:only-of-type {\n",
       "        vertical-align: middle;\n",
       "    }\n",
       "\n",
       "    .dataframe tbody tr th {\n",
       "        vertical-align: top;\n",
       "    }\n",
       "\n",
       "    .dataframe thead th {\n",
       "        text-align: right;\n",
       "    }\n",
       "</style>\n",
       "<table border=\"1\" class=\"dataframe\">\n",
       "  <thead>\n",
       "    <tr style=\"text-align: right;\">\n",
       "      <th></th>\n",
       "      <th>rating</th>\n",
       "      <th>rating_counts</th>\n",
       "    </tr>\n",
       "    <tr>\n",
       "      <th>id</th>\n",
       "      <th></th>\n",
       "      <th></th>\n",
       "    </tr>\n",
       "  </thead>\n",
       "  <tbody>\n",
       "    <tr>\n",
       "      <th>3</th>\n",
       "      <td>5.742925</td>\n",
       "      <td>106</td>\n",
       "    </tr>\n",
       "    <tr>\n",
       "      <th>5</th>\n",
       "      <td>6.444444</td>\n",
       "      <td>18</td>\n",
       "    </tr>\n",
       "    <tr>\n",
       "      <th>6</th>\n",
       "      <td>5.890244</td>\n",
       "      <td>41</td>\n",
       "    </tr>\n",
       "    <tr>\n",
       "      <th>8</th>\n",
       "      <td>6.899123</td>\n",
       "      <td>38</td>\n",
       "    </tr>\n",
       "    <tr>\n",
       "      <th>10</th>\n",
       "      <td>5.605932</td>\n",
       "      <td>59</td>\n",
       "    </tr>\n",
       "  </tbody>\n",
       "</table>\n",
       "</div>"
      ],
      "text/plain": [
       "      rating  rating_counts\n",
       "id                         \n",
       "3   5.742925            106\n",
       "5   6.444444             18\n",
       "6   5.890244             41\n",
       "8   6.899123             38\n",
       "10  5.605932             59"
      ]
     },
     "execution_count": 14,
     "metadata": {},
     "output_type": "execute_result"
    }
   ],
   "source": [
    "ratings_mean_count = creat_ratings_mean_count(reviews)\n",
    "ratings_mean_count.head()"
   ]
  },
  {
   "cell_type": "markdown",
   "metadata": {},
   "source": [
    "### Exploratory Data Analysis"
   ]
  },
  {
   "cell_type": "code",
   "execution_count": 15,
   "metadata": {},
   "outputs": [],
   "source": [
    "from exploratory_data_analysis import *\n",
    "%matplotlib inline"
   ]
  },
  {
   "cell_type": "code",
   "execution_count": 16,
   "metadata": {},
   "outputs": [
    {
     "data": {
      "image/png": "[encoded data removed]",
      "text/plain": [
       "<Figure size 432x288 with 1 Axes>"
      ]
     },
     "metadata": {},
     "output_type": "display_data"
    }
   ],
   "source": [
    "plot_pre_processing(reviews_bf, reviews)"
   ]
  },
  {
   "cell_type": "code",
   "execution_count": 17,
   "metadata": {
    "scrolled": false
   },
   "outputs": [
    {
     "data": {
      "image/png": "[encoded data removed]",
      "text/plain": [
       "<Figure size 576x432 with 1 Axes>"
      ]
     },
     "metadata": {
      "needs_background": "light"
     },
     "output_type": "display_data"
    }
   ],
   "source": [
    "plot_nratings_per_movie(ratings_mean_count)"
   ]
  },
  {
   "cell_type": "markdown",
   "metadata": {},
   "source": [
    "In this graph we can see that most of the films have less than 25 ratings, and that few films have more than 50 ratings. With each movie averaging 34 ratings."
   ]
  },
  {
   "cell_type": "code",
   "execution_count": 18,
   "metadata": {
    "scrolled": false
   },
   "outputs": [
    {
     "data": {
      "image/png": "[encoded data removed]",
      "text/plain": [
       "<Figure size 576x432 with 1 Axes>"
      ]
     },
     "metadata": {
      "needs_background": "light"
     },
     "output_type": "display_data"
    }
   ],
   "source": [
    "plot_average_ratings_per_movie(ratings_mean_count)"
   ]
  },
  {
   "cell_type": "markdown",
   "metadata": {},
   "source": [
    "Here we can see the normal distribution of the ratings, with a mean of around 5.7."
   ]
  },
  {
   "cell_type": "code",
   "execution_count": 19,
   "metadata": {},
   "outputs": [
    {
     "data": {
      "text/plain": [
       "<Figure size 576x432 with 0 Axes>"
      ]
     },
     "metadata": {},
     "output_type": "display_data"
    },
    {
     "data": {
      "image/png": "[encoded data removed]",
      "text/plain": [
       "<Figure size 432x432 with 3 Axes>"
      ]
     },
     "metadata": {
      "needs_background": "light"
     },
     "output_type": "display_data"
    }
   ],
   "source": [
    "plot_average_against_nratings_per_movie(ratings_mean_count)"
   ]
  },
  {
   "cell_type": "markdown",
   "metadata": {},
   "source": [
    "Here we can see the last two charts in one, where we conclude that movies with a rating lower or near the average of ratings, have a lower number of ratings given, and movies with higher ratings, have a higher number of ratings."
   ]
  },
  {
   "cell_type": "markdown",
   "metadata": {},
   "source": [
    "# Experimental Setup and Obtained Results\n",
    "## Recommender Systems"
   ]
  },
  {
   "cell_type": "markdown",
   "metadata": {},
   "source": [
    "###  1. BINARY"
   ]
  },
  {
   "cell_type": "code",
   "execution_count": 20,
   "metadata": {},
   "outputs": [],
   "source": [
    "from recommender_systems import Binary\n",
    "binary = Binary(reviews, reviews_rs, critic_uid)"
   ]
  },
  {
   "cell_type": "markdown",
   "metadata": {},
   "source": [
    "### a) Popularity:\n",
    "Returns the movie with the most reviews."
   ]
  },
  {
   "cell_type": "markdown",
   "metadata": {},
   "source": [
    "Top 1 Movies Recommendation"
   ]
  },
  {
   "cell_type": "code",
   "execution_count": 21,
   "metadata": {},
   "outputs": [
    {
     "name": "stdout",
     "output_type": "stream",
     "text": [
      "movie_id: 1136 with number of rating: 181\n"
     ]
    }
   ],
   "source": [
    "binary.binary_popularity_based(1)"
   ]
  },
  {
   "cell_type": "markdown",
   "metadata": {},
   "source": [
    "Top 2 Movies Recommendation"
   ]
  },
  {
   "cell_type": "code",
   "execution_count": 22,
   "metadata": {},
   "outputs": [
    {
     "name": "stdout",
     "output_type": "stream",
     "text": [
      "movie_id: 1136 with number of rating: 181\n",
      "movie_id: 1071 with number of rating: 170\n"
     ]
    }
   ],
   "source": [
    "binary.binary_popularity_based(2)"
   ]
  },
  {
   "cell_type": "markdown",
   "metadata": {},
   "source": [
    "Top 5 Movies Recommendation"
   ]
  },
  {
   "cell_type": "code",
   "execution_count": 23,
   "metadata": {},
   "outputs": [
    {
     "name": "stdout",
     "output_type": "stream",
     "text": [
      "movie_id: 1136 with number of rating: 181\n",
      "movie_id: 1071 with number of rating: 170\n",
      "movie_id: 1704 with number of rating: 169\n",
      "movie_id: 1525 with number of rating: 165\n",
      "movie_id: 1325 with number of rating: 157\n"
     ]
    }
   ],
   "source": [
    "binary.binary_popularity_based(5)"
   ]
  },
  {
   "cell_type": "markdown",
   "metadata": {},
   "source": [
    "### b) Association Rules:\n"
   ]
  },
  {
   "cell_type": "code",
   "execution_count": 24,
   "metadata": {
    "scrolled": true
   },
   "outputs": [
    {
     "data": {
      "text/html": [
       "<div>\n",
       "<style scoped>\n",
       "    .dataframe tbody tr th:only-of-type {\n",
       "        vertical-align: middle;\n",
       "    }\n",
       "\n",
       "    .dataframe tbody tr th {\n",
       "        vertical-align: top;\n",
       "    }\n",
       "\n",
       "    .dataframe thead th {\n",
       "        text-align: right;\n",
       "    }\n",
       "</style>\n",
       "<table border=\"1\" class=\"dataframe\">\n",
       "  <thead>\n",
       "    <tr style=\"text-align: right;\">\n",
       "      <th></th>\n",
       "      <th>3</th>\n",
       "      <th>5</th>\n",
       "      <th>6</th>\n",
       "      <th>8</th>\n",
       "      <th>10</th>\n",
       "      <th>13</th>\n",
       "      <th>14</th>\n",
       "      <th>15</th>\n",
       "      <th>17</th>\n",
       "      <th>19</th>\n",
       "      <th>...</th>\n",
       "      <th>1987</th>\n",
       "      <th>1991</th>\n",
       "      <th>1992</th>\n",
       "      <th>1993</th>\n",
       "      <th>1995</th>\n",
       "      <th>1996</th>\n",
       "      <th>1997</th>\n",
       "      <th>1998</th>\n",
       "      <th>1999</th>\n",
       "      <th>2000</th>\n",
       "    </tr>\n",
       "  </thead>\n",
       "  <tbody>\n",
       "    <tr>\n",
       "      <th>0</th>\n",
       "      <td>True</td>\n",
       "      <td>False</td>\n",
       "      <td>False</td>\n",
       "      <td>False</td>\n",
       "      <td>False</td>\n",
       "      <td>False</td>\n",
       "      <td>False</td>\n",
       "      <td>False</td>\n",
       "      <td>False</td>\n",
       "      <td>False</td>\n",
       "      <td>...</td>\n",
       "      <td>False</td>\n",
       "      <td>False</td>\n",
       "      <td>False</td>\n",
       "      <td>False</td>\n",
       "      <td>False</td>\n",
       "      <td>False</td>\n",
       "      <td>False</td>\n",
       "      <td>False</td>\n",
       "      <td>False</td>\n",
       "      <td>False</td>\n",
       "    </tr>\n",
       "    <tr>\n",
       "      <th>1</th>\n",
       "      <td>True</td>\n",
       "      <td>False</td>\n",
       "      <td>False</td>\n",
       "      <td>True</td>\n",
       "      <td>True</td>\n",
       "      <td>False</td>\n",
       "      <td>False</td>\n",
       "      <td>False</td>\n",
       "      <td>False</td>\n",
       "      <td>False</td>\n",
       "      <td>...</td>\n",
       "      <td>False</td>\n",
       "      <td>False</td>\n",
       "      <td>False</td>\n",
       "      <td>False</td>\n",
       "      <td>False</td>\n",
       "      <td>True</td>\n",
       "      <td>False</td>\n",
       "      <td>False</td>\n",
       "      <td>False</td>\n",
       "      <td>False</td>\n",
       "    </tr>\n",
       "    <tr>\n",
       "      <th>2</th>\n",
       "      <td>True</td>\n",
       "      <td>False</td>\n",
       "      <td>False</td>\n",
       "      <td>False</td>\n",
       "      <td>False</td>\n",
       "      <td>False</td>\n",
       "      <td>False</td>\n",
       "      <td>False</td>\n",
       "      <td>False</td>\n",
       "      <td>False</td>\n",
       "      <td>...</td>\n",
       "      <td>False</td>\n",
       "      <td>False</td>\n",
       "      <td>False</td>\n",
       "      <td>False</td>\n",
       "      <td>False</td>\n",
       "      <td>False</td>\n",
       "      <td>False</td>\n",
       "      <td>False</td>\n",
       "      <td>False</td>\n",
       "      <td>False</td>\n",
       "    </tr>\n",
       "    <tr>\n",
       "      <th>3</th>\n",
       "      <td>True</td>\n",
       "      <td>True</td>\n",
       "      <td>True</td>\n",
       "      <td>False</td>\n",
       "      <td>False</td>\n",
       "      <td>False</td>\n",
       "      <td>False</td>\n",
       "      <td>True</td>\n",
       "      <td>False</td>\n",
       "      <td>False</td>\n",
       "      <td>...</td>\n",
       "      <td>True</td>\n",
       "      <td>True</td>\n",
       "      <td>True</td>\n",
       "      <td>True</td>\n",
       "      <td>False</td>\n",
       "      <td>False</td>\n",
       "      <td>True</td>\n",
       "      <td>False</td>\n",
       "      <td>True</td>\n",
       "      <td>True</td>\n",
       "    </tr>\n",
       "    <tr>\n",
       "      <th>4</th>\n",
       "      <td>True</td>\n",
       "      <td>False</td>\n",
       "      <td>False</td>\n",
       "      <td>False</td>\n",
       "      <td>False</td>\n",
       "      <td>False</td>\n",
       "      <td>False</td>\n",
       "      <td>False</td>\n",
       "      <td>False</td>\n",
       "      <td>False</td>\n",
       "      <td>...</td>\n",
       "      <td>False</td>\n",
       "      <td>False</td>\n",
       "      <td>False</td>\n",
       "      <td>False</td>\n",
       "      <td>False</td>\n",
       "      <td>False</td>\n",
       "      <td>False</td>\n",
       "      <td>False</td>\n",
       "      <td>False</td>\n",
       "      <td>False</td>\n",
       "    </tr>\n",
       "  </tbody>\n",
       "</table>\n",
       "<p>5 rows × 1112 columns</p>\n",
       "</div>"
      ],
      "text/plain": [
       "   3      5      6      8      10     13     14     15     17     19    ...  \\\n",
       "0  True  False  False  False  False  False  False  False  False  False  ...   \n",
       "1  True  False  False   True   True  False  False  False  False  False  ...   \n",
       "2  True  False  False  False  False  False  False  False  False  False  ...   \n",
       "3  True   True   True  False  False  False  False   True  False  False  ...   \n",
       "4  True  False  False  False  False  False  False  False  False  False  ...   \n",
       "\n",
       "    1987   1991   1992   1993   1995   1996   1997   1998   1999   2000  \n",
       "0  False  False  False  False  False  False  False  False  False  False  \n",
       "1  False  False  False  False  False   True  False  False  False  False  \n",
       "2  False  False  False  False  False  False  False  False  False  False  \n",
       "3   True   True   True   True  False  False   True  False   True   True  \n",
       "4  False  False  False  False  False  False  False  False  False  False  \n",
       "\n",
       "[5 rows x 1112 columns]"
      ]
     },
     "execution_count": 24,
     "metadata": {},
     "output_type": "execute_result"
    }
   ],
   "source": [
    "df = binary.ar_create_df()\n",
    "df.head()"
   ]
  },
  {
   "cell_type": "code",
   "execution_count": 25,
   "metadata": {
    "scrolled": true
   },
   "outputs": [
    {
     "data": {
      "text/html": [
       "<div>\n",
       "<style scoped>\n",
       "    .dataframe tbody tr th:only-of-type {\n",
       "        vertical-align: middle;\n",
       "    }\n",
       "\n",
       "    .dataframe tbody tr th {\n",
       "        vertical-align: top;\n",
       "    }\n",
       "\n",
       "    .dataframe thead th {\n",
       "        text-align: right;\n",
       "    }\n",
       "</style>\n",
       "<table border=\"1\" class=\"dataframe\">\n",
       "  <thead>\n",
       "    <tr style=\"text-align: right;\">\n",
       "      <th></th>\n",
       "      <th>support</th>\n",
       "      <th>itemsets</th>\n",
       "    </tr>\n",
       "  </thead>\n",
       "  <tbody>\n",
       "    <tr>\n",
       "      <th>0</th>\n",
       "      <td>0.043659</td>\n",
       "      <td>(3)</td>\n",
       "    </tr>\n",
       "    <tr>\n",
       "      <th>1</th>\n",
       "      <td>0.060291</td>\n",
       "      <td>(23)</td>\n",
       "    </tr>\n",
       "    <tr>\n",
       "      <th>2</th>\n",
       "      <td>0.034511</td>\n",
       "      <td>(26)</td>\n",
       "    </tr>\n",
       "    <tr>\n",
       "      <th>3</th>\n",
       "      <td>0.031185</td>\n",
       "      <td>(40)</td>\n",
       "    </tr>\n",
       "    <tr>\n",
       "      <th>4</th>\n",
       "      <td>0.052391</td>\n",
       "      <td>(57)</td>\n",
       "    </tr>\n",
       "    <tr>\n",
       "      <th>5</th>\n",
       "      <td>0.054886</td>\n",
       "      <td>(65)</td>\n",
       "    </tr>\n",
       "    <tr>\n",
       "      <th>6</th>\n",
       "      <td>0.057796</td>\n",
       "      <td>(77)</td>\n",
       "    </tr>\n",
       "    <tr>\n",
       "      <th>7</th>\n",
       "      <td>0.040748</td>\n",
       "      <td>(95)</td>\n",
       "    </tr>\n",
       "    <tr>\n",
       "      <th>8</th>\n",
       "      <td>0.033680</td>\n",
       "      <td>(99)</td>\n",
       "    </tr>\n",
       "    <tr>\n",
       "      <th>9</th>\n",
       "      <td>0.039085</td>\n",
       "      <td>(108)</td>\n",
       "    </tr>\n",
       "    <tr>\n",
       "      <th>10</th>\n",
       "      <td>0.045738</td>\n",
       "      <td>(124)</td>\n",
       "    </tr>\n",
       "    <tr>\n",
       "      <th>11</th>\n",
       "      <td>0.033680</td>\n",
       "      <td>(153)</td>\n",
       "    </tr>\n",
       "    <tr>\n",
       "      <th>12</th>\n",
       "      <td>0.060291</td>\n",
       "      <td>(158)</td>\n",
       "    </tr>\n",
       "    <tr>\n",
       "      <th>13</th>\n",
       "      <td>0.032848</td>\n",
       "      <td>(159)</td>\n",
       "    </tr>\n",
       "    <tr>\n",
       "      <th>14</th>\n",
       "      <td>0.031185</td>\n",
       "      <td>(182)</td>\n",
       "    </tr>\n",
       "    <tr>\n",
       "      <th>15</th>\n",
       "      <td>0.042412</td>\n",
       "      <td>(188)</td>\n",
       "    </tr>\n",
       "    <tr>\n",
       "      <th>16</th>\n",
       "      <td>0.056133</td>\n",
       "      <td>(210)</td>\n",
       "    </tr>\n",
       "    <tr>\n",
       "      <th>17</th>\n",
       "      <td>0.051143</td>\n",
       "      <td>(218)</td>\n",
       "    </tr>\n",
       "    <tr>\n",
       "      <th>18</th>\n",
       "      <td>0.030353</td>\n",
       "      <td>(227)</td>\n",
       "    </tr>\n",
       "    <tr>\n",
       "      <th>19</th>\n",
       "      <td>0.031601</td>\n",
       "      <td>(235)</td>\n",
       "    </tr>\n",
       "    <tr>\n",
       "      <th>20</th>\n",
       "      <td>0.045738</td>\n",
       "      <td>(251)</td>\n",
       "    </tr>\n",
       "    <tr>\n",
       "      <th>21</th>\n",
       "      <td>0.033264</td>\n",
       "      <td>(267)</td>\n",
       "    </tr>\n",
       "    <tr>\n",
       "      <th>22</th>\n",
       "      <td>0.056549</td>\n",
       "      <td>(281)</td>\n",
       "    </tr>\n",
       "    <tr>\n",
       "      <th>23</th>\n",
       "      <td>0.050728</td>\n",
       "      <td>(290)</td>\n",
       "    </tr>\n",
       "    <tr>\n",
       "      <th>24</th>\n",
       "      <td>0.052391</td>\n",
       "      <td>(300)</td>\n",
       "    </tr>\n",
       "    <tr>\n",
       "      <th>25</th>\n",
       "      <td>0.049064</td>\n",
       "      <td>(301)</td>\n",
       "    </tr>\n",
       "    <tr>\n",
       "      <th>26</th>\n",
       "      <td>0.038254</td>\n",
       "      <td>(304)</td>\n",
       "    </tr>\n",
       "    <tr>\n",
       "      <th>27</th>\n",
       "      <td>0.051143</td>\n",
       "      <td>(321)</td>\n",
       "    </tr>\n",
       "    <tr>\n",
       "      <th>28</th>\n",
       "      <td>0.061954</td>\n",
       "      <td>(322)</td>\n",
       "    </tr>\n",
       "    <tr>\n",
       "      <th>29</th>\n",
       "      <td>0.063617</td>\n",
       "      <td>(338)</td>\n",
       "    </tr>\n",
       "    <tr>\n",
       "      <th>...</th>\n",
       "      <td>...</td>\n",
       "      <td>...</td>\n",
       "    </tr>\n",
       "    <tr>\n",
       "      <th>188</th>\n",
       "      <td>0.030769</td>\n",
       "      <td>(338, 610)</td>\n",
       "    </tr>\n",
       "    <tr>\n",
       "      <th>189</th>\n",
       "      <td>0.030353</td>\n",
       "      <td>(1017, 338)</td>\n",
       "    </tr>\n",
       "    <tr>\n",
       "      <th>190</th>\n",
       "      <td>0.030769</td>\n",
       "      <td>(1722, 338)</td>\n",
       "    </tr>\n",
       "    <tr>\n",
       "      <th>191</th>\n",
       "      <td>0.030353</td>\n",
       "      <td>(338, 1877)</td>\n",
       "    </tr>\n",
       "    <tr>\n",
       "      <th>192</th>\n",
       "      <td>0.034096</td>\n",
       "      <td>(841, 443)</td>\n",
       "    </tr>\n",
       "    <tr>\n",
       "      <th>193</th>\n",
       "      <td>0.030769</td>\n",
       "      <td>(443, 1071)</td>\n",
       "    </tr>\n",
       "    <tr>\n",
       "      <th>194</th>\n",
       "      <td>0.030353</td>\n",
       "      <td>(443, 1844)</td>\n",
       "    </tr>\n",
       "    <tr>\n",
       "      <th>195</th>\n",
       "      <td>0.033680</td>\n",
       "      <td>(443, 1935)</td>\n",
       "    </tr>\n",
       "    <tr>\n",
       "      <th>196</th>\n",
       "      <td>0.031185</td>\n",
       "      <td>(611, 1071)</td>\n",
       "    </tr>\n",
       "    <tr>\n",
       "      <th>197</th>\n",
       "      <td>0.032432</td>\n",
       "      <td>(841, 1071)</td>\n",
       "    </tr>\n",
       "    <tr>\n",
       "      <th>198</th>\n",
       "      <td>0.034927</td>\n",
       "      <td>(841, 1935)</td>\n",
       "    </tr>\n",
       "    <tr>\n",
       "      <th>199</th>\n",
       "      <td>0.032848</td>\n",
       "      <td>(976, 1071)</td>\n",
       "    </tr>\n",
       "    <tr>\n",
       "      <th>200</th>\n",
       "      <td>0.030769</td>\n",
       "      <td>(976, 1935)</td>\n",
       "    </tr>\n",
       "    <tr>\n",
       "      <th>201</th>\n",
       "      <td>0.030769</td>\n",
       "      <td>(1442, 1071)</td>\n",
       "    </tr>\n",
       "    <tr>\n",
       "      <th>202</th>\n",
       "      <td>0.030353</td>\n",
       "      <td>(1071, 1695)</td>\n",
       "    </tr>\n",
       "    <tr>\n",
       "      <th>203</th>\n",
       "      <td>0.030769</td>\n",
       "      <td>(1844, 1071)</td>\n",
       "    </tr>\n",
       "    <tr>\n",
       "      <th>204</th>\n",
       "      <td>0.036590</td>\n",
       "      <td>(1071, 1935)</td>\n",
       "    </tr>\n",
       "    <tr>\n",
       "      <th>205</th>\n",
       "      <td>0.032432</td>\n",
       "      <td>(1962, 1071)</td>\n",
       "    </tr>\n",
       "    <tr>\n",
       "      <th>206</th>\n",
       "      <td>0.036590</td>\n",
       "      <td>(1136, 1307)</td>\n",
       "    </tr>\n",
       "    <tr>\n",
       "      <th>207</th>\n",
       "      <td>0.032017</td>\n",
       "      <td>(1424, 1136)</td>\n",
       "    </tr>\n",
       "    <tr>\n",
       "      <th>208</th>\n",
       "      <td>0.033680</td>\n",
       "      <td>(1136, 1494)</td>\n",
       "    </tr>\n",
       "    <tr>\n",
       "      <th>209</th>\n",
       "      <td>0.034096</td>\n",
       "      <td>(1136, 1525)</td>\n",
       "    </tr>\n",
       "    <tr>\n",
       "      <th>210</th>\n",
       "      <td>0.030353</td>\n",
       "      <td>(1136, 1561)</td>\n",
       "    </tr>\n",
       "    <tr>\n",
       "      <th>211</th>\n",
       "      <td>0.030353</td>\n",
       "      <td>(1307, 1494)</td>\n",
       "    </tr>\n",
       "    <tr>\n",
       "      <th>212</th>\n",
       "      <td>0.031185</td>\n",
       "      <td>(1307, 1525)</td>\n",
       "    </tr>\n",
       "    <tr>\n",
       "      <th>213</th>\n",
       "      <td>0.032017</td>\n",
       "      <td>(1585, 1935)</td>\n",
       "    </tr>\n",
       "    <tr>\n",
       "      <th>214</th>\n",
       "      <td>0.035343</td>\n",
       "      <td>(1608, 1758)</td>\n",
       "    </tr>\n",
       "    <tr>\n",
       "      <th>215</th>\n",
       "      <td>0.036590</td>\n",
       "      <td>(1695, 1935)</td>\n",
       "    </tr>\n",
       "    <tr>\n",
       "      <th>216</th>\n",
       "      <td>0.034927</td>\n",
       "      <td>(1844, 1935)</td>\n",
       "    </tr>\n",
       "    <tr>\n",
       "      <th>217</th>\n",
       "      <td>0.030353</td>\n",
       "      <td>(1962, 1935)</td>\n",
       "    </tr>\n",
       "  </tbody>\n",
       "</table>\n",
       "<p>218 rows × 2 columns</p>\n",
       "</div>"
      ],
      "text/plain": [
       "      support      itemsets\n",
       "0    0.043659           (3)\n",
       "1    0.060291          (23)\n",
       "2    0.034511          (26)\n",
       "3    0.031185          (40)\n",
       "4    0.052391          (57)\n",
       "5    0.054886          (65)\n",
       "6    0.057796          (77)\n",
       "7    0.040748          (95)\n",
       "8    0.033680          (99)\n",
       "9    0.039085         (108)\n",
       "10   0.045738         (124)\n",
       "11   0.033680         (153)\n",
       "12   0.060291         (158)\n",
       "13   0.032848         (159)\n",
       "14   0.031185         (182)\n",
       "15   0.042412         (188)\n",
       "16   0.056133         (210)\n",
       "17   0.051143         (218)\n",
       "18   0.030353         (227)\n",
       "19   0.031601         (235)\n",
       "20   0.045738         (251)\n",
       "21   0.033264         (267)\n",
       "22   0.056549         (281)\n",
       "23   0.050728         (290)\n",
       "24   0.052391         (300)\n",
       "25   0.049064         (301)\n",
       "26   0.038254         (304)\n",
       "27   0.051143         (321)\n",
       "28   0.061954         (322)\n",
       "29   0.063617         (338)\n",
       "..        ...           ...\n",
       "188  0.030769    (338, 610)\n",
       "189  0.030353   (1017, 338)\n",
       "190  0.030769   (1722, 338)\n",
       "191  0.030353   (338, 1877)\n",
       "192  0.034096    (841, 443)\n",
       "193  0.030769   (443, 1071)\n",
       "194  0.030353   (443, 1844)\n",
       "195  0.033680   (443, 1935)\n",
       "196  0.031185   (611, 1071)\n",
       "197  0.032432   (841, 1071)\n",
       "198  0.034927   (841, 1935)\n",
       "199  0.032848   (976, 1071)\n",
       "200  0.030769   (976, 1935)\n",
       "201  0.030769  (1442, 1071)\n",
       "202  0.030353  (1071, 1695)\n",
       "203  0.030769  (1844, 1071)\n",
       "204  0.036590  (1071, 1935)\n",
       "205  0.032432  (1962, 1071)\n",
       "206  0.036590  (1136, 1307)\n",
       "207  0.032017  (1424, 1136)\n",
       "208  0.033680  (1136, 1494)\n",
       "209  0.034096  (1136, 1525)\n",
       "210  0.030353  (1136, 1561)\n",
       "211  0.030353  (1307, 1494)\n",
       "212  0.031185  (1307, 1525)\n",
       "213  0.032017  (1585, 1935)\n",
       "214  0.035343  (1608, 1758)\n",
       "215  0.036590  (1695, 1935)\n",
       "216  0.034927  (1844, 1935)\n",
       "217  0.030353  (1962, 1935)\n",
       "\n",
       "[218 rows x 2 columns]"
      ]
     },
     "execution_count": 25,
     "metadata": {},
     "output_type": "execute_result"
    }
   ],
   "source": [
    "frequent_itemsets = binary.frequent_itemsets(df, min_support=0.03, verbose=0)\n",
    "frequent_itemsets"
   ]
  },
  {
   "cell_type": "code",
   "execution_count": 26,
   "metadata": {
    "scrolled": true
   },
   "outputs": [
    {
     "data": {
      "text/html": [
       "<div>\n",
       "<style scoped>\n",
       "    .dataframe tbody tr th:only-of-type {\n",
       "        vertical-align: middle;\n",
       "    }\n",
       "\n",
       "    .dataframe tbody tr th {\n",
       "        vertical-align: top;\n",
       "    }\n",
       "\n",
       "    .dataframe thead th {\n",
       "        text-align: right;\n",
       "    }\n",
       "</style>\n",
       "<table border=\"1\" class=\"dataframe\">\n",
       "  <thead>\n",
       "    <tr style=\"text-align: right;\">\n",
       "      <th></th>\n",
       "      <th>antecedents</th>\n",
       "      <th>consequents</th>\n",
       "      <th>antecedent support</th>\n",
       "      <th>consequent support</th>\n",
       "      <th>support</th>\n",
       "      <th>confidence</th>\n",
       "      <th>lift</th>\n",
       "      <th>leverage</th>\n",
       "      <th>conviction</th>\n",
       "    </tr>\n",
       "  </thead>\n",
       "  <tbody>\n",
       "    <tr>\n",
       "      <th>0</th>\n",
       "      <td>(1017)</td>\n",
       "      <td>(338)</td>\n",
       "      <td>0.056965</td>\n",
       "      <td>0.063617</td>\n",
       "      <td>0.030353</td>\n",
       "      <td>0.532847</td>\n",
       "      <td>8.375793</td>\n",
       "      <td>0.026729</td>\n",
       "      <td>2.004444</td>\n",
       "    </tr>\n",
       "    <tr>\n",
       "      <th>1</th>\n",
       "      <td>(1695)</td>\n",
       "      <td>(1935)</td>\n",
       "      <td>0.051975</td>\n",
       "      <td>0.059044</td>\n",
       "      <td>0.036590</td>\n",
       "      <td>0.704000</td>\n",
       "      <td>11.923380</td>\n",
       "      <td>0.033522</td>\n",
       "      <td>3.178907</td>\n",
       "    </tr>\n",
       "    <tr>\n",
       "      <th>2</th>\n",
       "      <td>(1935)</td>\n",
       "      <td>(1695)</td>\n",
       "      <td>0.059044</td>\n",
       "      <td>0.051975</td>\n",
       "      <td>0.036590</td>\n",
       "      <td>0.619718</td>\n",
       "      <td>11.923380</td>\n",
       "      <td>0.033522</td>\n",
       "      <td>2.492954</td>\n",
       "    </tr>\n",
       "    <tr>\n",
       "      <th>3</th>\n",
       "      <td>(841)</td>\n",
       "      <td>(443)</td>\n",
       "      <td>0.059459</td>\n",
       "      <td>0.057380</td>\n",
       "      <td>0.034096</td>\n",
       "      <td>0.573427</td>\n",
       "      <td>9.993412</td>\n",
       "      <td>0.030684</td>\n",
       "      <td>2.209747</td>\n",
       "    </tr>\n",
       "    <tr>\n",
       "      <th>4</th>\n",
       "      <td>(443)</td>\n",
       "      <td>(841)</td>\n",
       "      <td>0.057380</td>\n",
       "      <td>0.059459</td>\n",
       "      <td>0.034096</td>\n",
       "      <td>0.594203</td>\n",
       "      <td>9.993412</td>\n",
       "      <td>0.030684</td>\n",
       "      <td>2.317761</td>\n",
       "    </tr>\n",
       "    <tr>\n",
       "      <th>5</th>\n",
       "      <td>(841)</td>\n",
       "      <td>(1071)</td>\n",
       "      <td>0.059459</td>\n",
       "      <td>0.068607</td>\n",
       "      <td>0.032432</td>\n",
       "      <td>0.545455</td>\n",
       "      <td>7.950413</td>\n",
       "      <td>0.028353</td>\n",
       "      <td>2.049064</td>\n",
       "    </tr>\n",
       "    <tr>\n",
       "      <th>6</th>\n",
       "      <td>(1585)</td>\n",
       "      <td>(1935)</td>\n",
       "      <td>0.051143</td>\n",
       "      <td>0.059044</td>\n",
       "      <td>0.032017</td>\n",
       "      <td>0.626016</td>\n",
       "      <td>10.602599</td>\n",
       "      <td>0.028997</td>\n",
       "      <td>2.516035</td>\n",
       "    </tr>\n",
       "    <tr>\n",
       "      <th>7</th>\n",
       "      <td>(1935)</td>\n",
       "      <td>(1585)</td>\n",
       "      <td>0.059044</td>\n",
       "      <td>0.051143</td>\n",
       "      <td>0.032017</td>\n",
       "      <td>0.542254</td>\n",
       "      <td>10.602599</td>\n",
       "      <td>0.028997</td>\n",
       "      <td>2.072887</td>\n",
       "    </tr>\n",
       "    <tr>\n",
       "      <th>8</th>\n",
       "      <td>(976)</td>\n",
       "      <td>(1071)</td>\n",
       "      <td>0.050312</td>\n",
       "      <td>0.068607</td>\n",
       "      <td>0.032848</td>\n",
       "      <td>0.652893</td>\n",
       "      <td>9.516404</td>\n",
       "      <td>0.029396</td>\n",
       "      <td>2.683299</td>\n",
       "    </tr>\n",
       "    <tr>\n",
       "      <th>9</th>\n",
       "      <td>(1525)</td>\n",
       "      <td>(1136)</td>\n",
       "      <td>0.067360</td>\n",
       "      <td>0.073181</td>\n",
       "      <td>0.034096</td>\n",
       "      <td>0.506173</td>\n",
       "      <td>6.916737</td>\n",
       "      <td>0.029166</td>\n",
       "      <td>1.876809</td>\n",
       "    </tr>\n",
       "    <tr>\n",
       "      <th>10</th>\n",
       "      <td>(443)</td>\n",
       "      <td>(1071)</td>\n",
       "      <td>0.057380</td>\n",
       "      <td>0.068607</td>\n",
       "      <td>0.030769</td>\n",
       "      <td>0.536232</td>\n",
       "      <td>7.815986</td>\n",
       "      <td>0.026833</td>\n",
       "      <td>2.008316</td>\n",
       "    </tr>\n",
       "    <tr>\n",
       "      <th>11</th>\n",
       "      <td>(1561)</td>\n",
       "      <td>(1136)</td>\n",
       "      <td>0.058628</td>\n",
       "      <td>0.073181</td>\n",
       "      <td>0.030353</td>\n",
       "      <td>0.517730</td>\n",
       "      <td>7.074670</td>\n",
       "      <td>0.026063</td>\n",
       "      <td>1.921787</td>\n",
       "    </tr>\n",
       "    <tr>\n",
       "      <th>12</th>\n",
       "      <td>(976)</td>\n",
       "      <td>(1935)</td>\n",
       "      <td>0.050312</td>\n",
       "      <td>0.059044</td>\n",
       "      <td>0.030769</td>\n",
       "      <td>0.611570</td>\n",
       "      <td>10.357933</td>\n",
       "      <td>0.027799</td>\n",
       "      <td>2.422462</td>\n",
       "    </tr>\n",
       "    <tr>\n",
       "      <th>13</th>\n",
       "      <td>(1935)</td>\n",
       "      <td>(976)</td>\n",
       "      <td>0.059044</td>\n",
       "      <td>0.050312</td>\n",
       "      <td>0.030769</td>\n",
       "      <td>0.521127</td>\n",
       "      <td>10.357933</td>\n",
       "      <td>0.027799</td>\n",
       "      <td>1.983172</td>\n",
       "    </tr>\n",
       "    <tr>\n",
       "      <th>14</th>\n",
       "      <td>(610)</td>\n",
       "      <td>(338)</td>\n",
       "      <td>0.051143</td>\n",
       "      <td>0.063617</td>\n",
       "      <td>0.030769</td>\n",
       "      <td>0.601626</td>\n",
       "      <td>9.456932</td>\n",
       "      <td>0.027516</td>\n",
       "      <td>2.350511</td>\n",
       "    </tr>\n",
       "    <tr>\n",
       "      <th>15</th>\n",
       "      <td>(1442)</td>\n",
       "      <td>(1071)</td>\n",
       "      <td>0.056549</td>\n",
       "      <td>0.068607</td>\n",
       "      <td>0.030769</td>\n",
       "      <td>0.544118</td>\n",
       "      <td>7.930927</td>\n",
       "      <td>0.026890</td>\n",
       "      <td>2.043055</td>\n",
       "    </tr>\n",
       "    <tr>\n",
       "      <th>16</th>\n",
       "      <td>(1844)</td>\n",
       "      <td>(1935)</td>\n",
       "      <td>0.052807</td>\n",
       "      <td>0.059044</td>\n",
       "      <td>0.034927</td>\n",
       "      <td>0.661417</td>\n",
       "      <td>11.202174</td>\n",
       "      <td>0.031809</td>\n",
       "      <td>2.779104</td>\n",
       "    </tr>\n",
       "    <tr>\n",
       "      <th>17</th>\n",
       "      <td>(1935)</td>\n",
       "      <td>(1844)</td>\n",
       "      <td>0.059044</td>\n",
       "      <td>0.052807</td>\n",
       "      <td>0.034927</td>\n",
       "      <td>0.591549</td>\n",
       "      <td>11.202174</td>\n",
       "      <td>0.031809</td>\n",
       "      <td>2.318991</td>\n",
       "    </tr>\n",
       "    <tr>\n",
       "      <th>18</th>\n",
       "      <td>(57)</td>\n",
       "      <td>(1136)</td>\n",
       "      <td>0.052391</td>\n",
       "      <td>0.073181</td>\n",
       "      <td>0.031601</td>\n",
       "      <td>0.603175</td>\n",
       "      <td>8.242244</td>\n",
       "      <td>0.027767</td>\n",
       "      <td>2.335584</td>\n",
       "    </tr>\n",
       "    <tr>\n",
       "      <th>19</th>\n",
       "      <td>(301)</td>\n",
       "      <td>(1935)</td>\n",
       "      <td>0.049064</td>\n",
       "      <td>0.059044</td>\n",
       "      <td>0.030769</td>\n",
       "      <td>0.627119</td>\n",
       "      <td>10.621270</td>\n",
       "      <td>0.027872</td>\n",
       "      <td>2.523474</td>\n",
       "    </tr>\n",
       "    <tr>\n",
       "      <th>20</th>\n",
       "      <td>(1935)</td>\n",
       "      <td>(301)</td>\n",
       "      <td>0.059044</td>\n",
       "      <td>0.049064</td>\n",
       "      <td>0.030769</td>\n",
       "      <td>0.521127</td>\n",
       "      <td>10.621270</td>\n",
       "      <td>0.027872</td>\n",
       "      <td>1.985777</td>\n",
       "    </tr>\n",
       "    <tr>\n",
       "      <th>21</th>\n",
       "      <td>(443)</td>\n",
       "      <td>(1935)</td>\n",
       "      <td>0.057380</td>\n",
       "      <td>0.059044</td>\n",
       "      <td>0.033680</td>\n",
       "      <td>0.586957</td>\n",
       "      <td>9.941059</td>\n",
       "      <td>0.030292</td>\n",
       "      <td>2.278105</td>\n",
       "    </tr>\n",
       "    <tr>\n",
       "      <th>22</th>\n",
       "      <td>(1935)</td>\n",
       "      <td>(443)</td>\n",
       "      <td>0.059044</td>\n",
       "      <td>0.057380</td>\n",
       "      <td>0.033680</td>\n",
       "      <td>0.570423</td>\n",
       "      <td>9.941059</td>\n",
       "      <td>0.030292</td>\n",
       "      <td>2.194295</td>\n",
       "    </tr>\n",
       "    <tr>\n",
       "      <th>23</th>\n",
       "      <td>(1722)</td>\n",
       "      <td>(338)</td>\n",
       "      <td>0.056965</td>\n",
       "      <td>0.063617</td>\n",
       "      <td>0.030769</td>\n",
       "      <td>0.540146</td>\n",
       "      <td>8.490530</td>\n",
       "      <td>0.027145</td>\n",
       "      <td>2.036260</td>\n",
       "    </tr>\n",
       "    <tr>\n",
       "      <th>24</th>\n",
       "      <td>(1494)</td>\n",
       "      <td>(1136)</td>\n",
       "      <td>0.061123</td>\n",
       "      <td>0.073181</td>\n",
       "      <td>0.033680</td>\n",
       "      <td>0.551020</td>\n",
       "      <td>7.529569</td>\n",
       "      <td>0.029207</td>\n",
       "      <td>2.064279</td>\n",
       "    </tr>\n",
       "    <tr>\n",
       "      <th>25</th>\n",
       "      <td>(1695)</td>\n",
       "      <td>(1071)</td>\n",
       "      <td>0.051975</td>\n",
       "      <td>0.068607</td>\n",
       "      <td>0.030353</td>\n",
       "      <td>0.584000</td>\n",
       "      <td>8.512242</td>\n",
       "      <td>0.026788</td>\n",
       "      <td>2.238925</td>\n",
       "    </tr>\n",
       "    <tr>\n",
       "      <th>26</th>\n",
       "      <td>(1962)</td>\n",
       "      <td>(1071)</td>\n",
       "      <td>0.051975</td>\n",
       "      <td>0.068607</td>\n",
       "      <td>0.032432</td>\n",
       "      <td>0.624000</td>\n",
       "      <td>9.095273</td>\n",
       "      <td>0.028867</td>\n",
       "      <td>2.477109</td>\n",
       "    </tr>\n",
       "    <tr>\n",
       "      <th>27</th>\n",
       "      <td>(611)</td>\n",
       "      <td>(1071)</td>\n",
       "      <td>0.048649</td>\n",
       "      <td>0.068607</td>\n",
       "      <td>0.031185</td>\n",
       "      <td>0.641026</td>\n",
       "      <td>9.343434</td>\n",
       "      <td>0.027847</td>\n",
       "      <td>2.594595</td>\n",
       "    </tr>\n",
       "    <tr>\n",
       "      <th>28</th>\n",
       "      <td>(841)</td>\n",
       "      <td>(1935)</td>\n",
       "      <td>0.059459</td>\n",
       "      <td>0.059044</td>\n",
       "      <td>0.034927</td>\n",
       "      <td>0.587413</td>\n",
       "      <td>9.948784</td>\n",
       "      <td>0.031417</td>\n",
       "      <td>2.280623</td>\n",
       "    </tr>\n",
       "    <tr>\n",
       "      <th>29</th>\n",
       "      <td>(1935)</td>\n",
       "      <td>(841)</td>\n",
       "      <td>0.059044</td>\n",
       "      <td>0.059459</td>\n",
       "      <td>0.034927</td>\n",
       "      <td>0.591549</td>\n",
       "      <td>9.948784</td>\n",
       "      <td>0.031417</td>\n",
       "      <td>2.302703</td>\n",
       "    </tr>\n",
       "    <tr>\n",
       "      <th>30</th>\n",
       "      <td>(1962)</td>\n",
       "      <td>(1935)</td>\n",
       "      <td>0.051975</td>\n",
       "      <td>0.059044</td>\n",
       "      <td>0.030353</td>\n",
       "      <td>0.584000</td>\n",
       "      <td>9.890986</td>\n",
       "      <td>0.027285</td>\n",
       "      <td>2.261914</td>\n",
       "    </tr>\n",
       "    <tr>\n",
       "      <th>31</th>\n",
       "      <td>(1935)</td>\n",
       "      <td>(1962)</td>\n",
       "      <td>0.059044</td>\n",
       "      <td>0.051975</td>\n",
       "      <td>0.030353</td>\n",
       "      <td>0.514085</td>\n",
       "      <td>9.890986</td>\n",
       "      <td>0.027285</td>\n",
       "      <td>1.951008</td>\n",
       "    </tr>\n",
       "    <tr>\n",
       "      <th>32</th>\n",
       "      <td>(1424)</td>\n",
       "      <td>(1136)</td>\n",
       "      <td>0.057380</td>\n",
       "      <td>0.073181</td>\n",
       "      <td>0.032017</td>\n",
       "      <td>0.557971</td>\n",
       "      <td>7.624547</td>\n",
       "      <td>0.027817</td>\n",
       "      <td>2.096738</td>\n",
       "    </tr>\n",
       "    <tr>\n",
       "      <th>33</th>\n",
       "      <td>(1608)</td>\n",
       "      <td>(1758)</td>\n",
       "      <td>0.035343</td>\n",
       "      <td>0.035343</td>\n",
       "      <td>0.035343</td>\n",
       "      <td>1.000000</td>\n",
       "      <td>28.294118</td>\n",
       "      <td>0.034094</td>\n",
       "      <td>inf</td>\n",
       "    </tr>\n",
       "    <tr>\n",
       "      <th>34</th>\n",
       "      <td>(1758)</td>\n",
       "      <td>(1608)</td>\n",
       "      <td>0.035343</td>\n",
       "      <td>0.035343</td>\n",
       "      <td>0.035343</td>\n",
       "      <td>1.000000</td>\n",
       "      <td>28.294118</td>\n",
       "      <td>0.034094</td>\n",
       "      <td>inf</td>\n",
       "    </tr>\n",
       "    <tr>\n",
       "      <th>35</th>\n",
       "      <td>(443)</td>\n",
       "      <td>(1844)</td>\n",
       "      <td>0.057380</td>\n",
       "      <td>0.052807</td>\n",
       "      <td>0.030353</td>\n",
       "      <td>0.528986</td>\n",
       "      <td>10.017403</td>\n",
       "      <td>0.027323</td>\n",
       "      <td>2.010964</td>\n",
       "    </tr>\n",
       "    <tr>\n",
       "      <th>36</th>\n",
       "      <td>(1844)</td>\n",
       "      <td>(443)</td>\n",
       "      <td>0.052807</td>\n",
       "      <td>0.057380</td>\n",
       "      <td>0.030353</td>\n",
       "      <td>0.574803</td>\n",
       "      <td>10.017403</td>\n",
       "      <td>0.027323</td>\n",
       "      <td>2.216902</td>\n",
       "    </tr>\n",
       "    <tr>\n",
       "      <th>37</th>\n",
       "      <td>(1844)</td>\n",
       "      <td>(1071)</td>\n",
       "      <td>0.052807</td>\n",
       "      <td>0.068607</td>\n",
       "      <td>0.030769</td>\n",
       "      <td>0.582677</td>\n",
       "      <td>8.492961</td>\n",
       "      <td>0.027146</td>\n",
       "      <td>2.231828</td>\n",
       "    </tr>\n",
       "    <tr>\n",
       "      <th>38</th>\n",
       "      <td>(1071)</td>\n",
       "      <td>(1935)</td>\n",
       "      <td>0.068607</td>\n",
       "      <td>0.059044</td>\n",
       "      <td>0.036590</td>\n",
       "      <td>0.533333</td>\n",
       "      <td>9.032864</td>\n",
       "      <td>0.032540</td>\n",
       "      <td>2.016335</td>\n",
       "    </tr>\n",
       "    <tr>\n",
       "      <th>39</th>\n",
       "      <td>(1935)</td>\n",
       "      <td>(1071)</td>\n",
       "      <td>0.059044</td>\n",
       "      <td>0.068607</td>\n",
       "      <td>0.036590</td>\n",
       "      <td>0.619718</td>\n",
       "      <td>9.032864</td>\n",
       "      <td>0.032540</td>\n",
       "      <td>2.449218</td>\n",
       "    </tr>\n",
       "    <tr>\n",
       "      <th>40</th>\n",
       "      <td>(1136)</td>\n",
       "      <td>(1307)</td>\n",
       "      <td>0.073181</td>\n",
       "      <td>0.063617</td>\n",
       "      <td>0.036590</td>\n",
       "      <td>0.500000</td>\n",
       "      <td>7.859477</td>\n",
       "      <td>0.031935</td>\n",
       "      <td>1.872765</td>\n",
       "    </tr>\n",
       "    <tr>\n",
       "      <th>41</th>\n",
       "      <td>(1307)</td>\n",
       "      <td>(1136)</td>\n",
       "      <td>0.063617</td>\n",
       "      <td>0.073181</td>\n",
       "      <td>0.036590</td>\n",
       "      <td>0.575163</td>\n",
       "      <td>7.859477</td>\n",
       "      <td>0.031935</td>\n",
       "      <td>2.181590</td>\n",
       "    </tr>\n",
       "  </tbody>\n",
       "</table>\n",
       "</div>"
      ],
      "text/plain": [
       "   antecedents consequents  antecedent support  consequent support   support  \\\n",
       "0       (1017)       (338)            0.056965            0.063617  0.030353   \n",
       "1       (1695)      (1935)            0.051975            0.059044  0.036590   \n",
       "2       (1935)      (1695)            0.059044            0.051975  0.036590   \n",
       "3        (841)       (443)            0.059459            0.057380  0.034096   \n",
       "4        (443)       (841)            0.057380            0.059459  0.034096   \n",
       "5        (841)      (1071)            0.059459            0.068607  0.032432   \n",
       "6       (1585)      (1935)            0.051143            0.059044  0.032017   \n",
       "7       (1935)      (1585)            0.059044            0.051143  0.032017   \n",
       "8        (976)      (1071)            0.050312            0.068607  0.032848   \n",
       "9       (1525)      (1136)            0.067360            0.073181  0.034096   \n",
       "10       (443)      (1071)            0.057380            0.068607  0.030769   \n",
       "11      (1561)      (1136)            0.058628            0.073181  0.030353   \n",
       "12       (976)      (1935)            0.050312            0.059044  0.030769   \n",
       "13      (1935)       (976)            0.059044            0.050312  0.030769   \n",
       "14       (610)       (338)            0.051143            0.063617  0.030769   \n",
       "15      (1442)      (1071)            0.056549            0.068607  0.030769   \n",
       "16      (1844)      (1935)            0.052807            0.059044  0.034927   \n",
       "17      (1935)      (1844)            0.059044            0.052807  0.034927   \n",
       "18        (57)      (1136)            0.052391            0.073181  0.031601   \n",
       "19       (301)      (1935)            0.049064            0.059044  0.030769   \n",
       "20      (1935)       (301)            0.059044            0.049064  0.030769   \n",
       "21       (443)      (1935)            0.057380            0.059044  0.033680   \n",
       "22      (1935)       (443)            0.059044            0.057380  0.033680   \n",
       "23      (1722)       (338)            0.056965            0.063617  0.030769   \n",
       "24      (1494)      (1136)            0.061123            0.073181  0.033680   \n",
       "25      (1695)      (1071)            0.051975            0.068607  0.030353   \n",
       "26      (1962)      (1071)            0.051975            0.068607  0.032432   \n",
       "27       (611)      (1071)            0.048649            0.068607  0.031185   \n",
       "28       (841)      (1935)            0.059459            0.059044  0.034927   \n",
       "29      (1935)       (841)            0.059044            0.059459  0.034927   \n",
       "30      (1962)      (1935)            0.051975            0.059044  0.030353   \n",
       "31      (1935)      (1962)            0.059044            0.051975  0.030353   \n",
       "32      (1424)      (1136)            0.057380            0.073181  0.032017   \n",
       "33      (1608)      (1758)            0.035343            0.035343  0.035343   \n",
       "34      (1758)      (1608)            0.035343            0.035343  0.035343   \n",
       "35       (443)      (1844)            0.057380            0.052807  0.030353   \n",
       "36      (1844)       (443)            0.052807            0.057380  0.030353   \n",
       "37      (1844)      (1071)            0.052807            0.068607  0.030769   \n",
       "38      (1071)      (1935)            0.068607            0.059044  0.036590   \n",
       "39      (1935)      (1071)            0.059044            0.068607  0.036590   \n",
       "40      (1136)      (1307)            0.073181            0.063617  0.036590   \n",
       "41      (1307)      (1136)            0.063617            0.073181  0.036590   \n",
       "\n",
       "    confidence       lift  leverage  conviction  \n",
       "0     0.532847   8.375793  0.026729    2.004444  \n",
       "1     0.704000  11.923380  0.033522    3.178907  \n",
       "2     0.619718  11.923380  0.033522    2.492954  \n",
       "3     0.573427   9.993412  0.030684    2.209747  \n",
       "4     0.594203   9.993412  0.030684    2.317761  \n",
       "5     0.545455   7.950413  0.028353    2.049064  \n",
       "6     0.626016  10.602599  0.028997    2.516035  \n",
       "7     0.542254  10.602599  0.028997    2.072887  \n",
       "8     0.652893   9.516404  0.029396    2.683299  \n",
       "9     0.506173   6.916737  0.029166    1.876809  \n",
       "10    0.536232   7.815986  0.026833    2.008316  \n",
       "11    0.517730   7.074670  0.026063    1.921787  \n",
       "12    0.611570  10.357933  0.027799    2.422462  \n",
       "13    0.521127  10.357933  0.027799    1.983172  \n",
       "14    0.601626   9.456932  0.027516    2.350511  \n",
       "15    0.544118   7.930927  0.026890    2.043055  \n",
       "16    0.661417  11.202174  0.031809    2.779104  \n",
       "17    0.591549  11.202174  0.031809    2.318991  \n",
       "18    0.603175   8.242244  0.027767    2.335584  \n",
       "19    0.627119  10.621270  0.027872    2.523474  \n",
       "20    0.521127  10.621270  0.027872    1.985777  \n",
       "21    0.586957   9.941059  0.030292    2.278105  \n",
       "22    0.570423   9.941059  0.030292    2.194295  \n",
       "23    0.540146   8.490530  0.027145    2.036260  \n",
       "24    0.551020   7.529569  0.029207    2.064279  \n",
       "25    0.584000   8.512242  0.026788    2.238925  \n",
       "26    0.624000   9.095273  0.028867    2.477109  \n",
       "27    0.641026   9.343434  0.027847    2.594595  \n",
       "28    0.587413   9.948784  0.031417    2.280623  \n",
       "29    0.591549   9.948784  0.031417    2.302703  \n",
       "30    0.584000   9.890986  0.027285    2.261914  \n",
       "31    0.514085   9.890986  0.027285    1.951008  \n",
       "32    0.557971   7.624547  0.027817    2.096738  \n",
       "33    1.000000  28.294118  0.034094         inf  \n",
       "34    1.000000  28.294118  0.034094         inf  \n",
       "35    0.528986  10.017403  0.027323    2.010964  \n",
       "36    0.574803  10.017403  0.027323    2.216902  \n",
       "37    0.582677   8.492961  0.027146    2.231828  \n",
       "38    0.533333   9.032864  0.032540    2.016335  \n",
       "39    0.619718   9.032864  0.032540    2.449218  \n",
       "40    0.500000   7.859477  0.031935    1.872765  \n",
       "41    0.575163   7.859477  0.031935    2.181590  "
      ]
     },
     "execution_count": 26,
     "metadata": {},
     "output_type": "execute_result"
    }
   ],
   "source": [
    "rules = binary.association_rules(frequent_itemsets, metric=\"confidence\", min_threshold=0.5)\n",
    "rules"
   ]
  },
  {
   "cell_type": "code",
   "execution_count": 27,
   "metadata": {},
   "outputs": [
    {
     "name": "stdout",
     "output_type": "stream",
     "text": [
      "Top movies for reviewer 100: Kimberly Gadette\n",
      "movie_id: 338\n",
      "movie_id: 1136\n"
     ]
    }
   ],
   "source": [
    "binary.get_ar_recommendation(df, rules, 100, critics, top_n=2)"
   ]
  },
  {
   "cell_type": "markdown",
   "metadata": {},
   "source": [
    "### c) Collaborative Filtering:\n",
    "Based on: \n",
    "* https://medium.com/radon-dev/item-item-collaborative-filtering-with-binary-or-unary-data-e8f0b465b2c3"
   ]
  },
  {
   "cell_type": "markdown",
   "metadata": {},
   "source": [
    "Top 5 Movies Recommendation for movie_id = 3"
   ]
  },
  {
   "cell_type": "code",
   "execution_count": 28,
   "metadata": {},
   "outputs": [
    {
     "name": "stdout",
     "output_type": "stream",
     "text": [
      "Top 5 movie recommendation based on movie_id = 3:\n",
      "movie_id: 3 with similarity: 1.0\n",
      "movie_id: 1646 with similarity: 0.132\n",
      "movie_id: 188 with similarity: 0.13\n",
      "movie_id: 1136 with similarity: 0.124\n",
      "movie_id: 23 with similarity: 0.122\n",
      "movie_id: 1083 with similarity: 0.119\n"
     ]
    }
   ],
   "source": [
    "binary.binary_collab_item_based(3, 5)"
   ]
  },
  {
   "cell_type": "markdown",
   "metadata": {},
   "source": [
    "Top 5 Movies Recommendation for user 'Kimberly Gadette'"
   ]
  },
  {
   "cell_type": "code",
   "execution_count": 29,
   "metadata": {},
   "outputs": [
    {
     "name": "stdout",
     "output_type": "stream",
     "text": [
      "Top 5 movie recommendation based on critic_id = Kimberly Gadette:\n",
      "movie_id: 258 with similarity: 0.029\n",
      "movie_id: 988 with similarity: 0.021\n",
      "movie_id: 357 with similarity: 0.021\n",
      "movie_id: 1944 with similarity: 0.02\n",
      "movie_id: 791 with similarity: 0.02\n"
     ]
    }
   ],
   "source": [
    "binary.binary_collab_user_based('Kimberly Gadette', 5)"
   ]
  },
  {
   "cell_type": "markdown",
   "metadata": {},
   "source": [
    "###  2. NON-BINARY"
   ]
  },
  {
   "cell_type": "code",
   "execution_count": 30,
   "metadata": {},
   "outputs": [],
   "source": [
    "from recommender_systems import NonBinary\n",
    "non_binary = NonBinary(reviews, reviews_rs, critic_uid, critics)"
   ]
  },
  {
   "cell_type": "markdown",
   "metadata": {},
   "source": [
    "### a) Popularity:\n",
    "Returns the movie with the best average rating."
   ]
  },
  {
   "cell_type": "markdown",
   "metadata": {},
   "source": [
    "Top 1 Movies Recommendation"
   ]
  },
  {
   "cell_type": "code",
   "execution_count": 31,
   "metadata": {},
   "outputs": [
    {
     "name": "stdout",
     "output_type": "stream",
     "text": [
      "movie_id: 953 with average rating: 9.595238095238093\n"
     ]
    }
   ],
   "source": [
    "non_binary.nbinary_popularity_based(1)"
   ]
  },
  {
   "cell_type": "markdown",
   "metadata": {},
   "source": [
    "Top 2 Movies Recommendation"
   ]
  },
  {
   "cell_type": "code",
   "execution_count": 32,
   "metadata": {},
   "outputs": [
    {
     "name": "stdout",
     "output_type": "stream",
     "text": [
      "movie_id: 953 with average rating: 9.595238095238093\n",
      "movie_id: 368 with average rating: 9.166666666666666\n"
     ]
    }
   ],
   "source": [
    "non_binary.nbinary_popularity_based(2)"
   ]
  },
  {
   "cell_type": "markdown",
   "metadata": {},
   "source": [
    "Top 5 Movies Recommendation"
   ]
  },
  {
   "cell_type": "code",
   "execution_count": 33,
   "metadata": {},
   "outputs": [
    {
     "name": "stdout",
     "output_type": "stream",
     "text": [
      "movie_id: 953 with average rating: 9.595238095238093\n",
      "movie_id: 368 with average rating: 9.166666666666666\n",
      "movie_id: 1657 with average rating: 9.0\n",
      "movie_id: 1241 with average rating: 9.0\n",
      "movie_id: 1284 with average rating: 8.583333333333332\n"
     ]
    }
   ],
   "source": [
    "non_binary.nbinary_popularity_based(5)"
   ]
  },
  {
   "cell_type": "markdown",
   "metadata": {},
   "source": [
    "### c) Collaborative Filtering:\n",
    "\n",
    "Using surprise package and method SVD++\n",
    "\n",
    "Based on: \n",
    "* https://blog.cambridgespark.com/tutorial-practical-introduction-to-recommender-systems-dbe22848392b\n",
    "* https://surprise.readthedocs.io/en/stable/matrix_factorization.html#surprise.prediction_algorithms.matrix_factorization.SVDpp"
   ]
  },
  {
   "cell_type": "markdown",
   "metadata": {},
   "source": [
    "Top 1 Movies Recommendation for user 'Kimberly Gadette'"
   ]
  },
  {
   "cell_type": "code",
   "execution_count": 34,
   "metadata": {},
   "outputs": [
    {
     "name": "stdout",
     "output_type": "stream",
     "text": [
      "Top movies for reviewer 100: Kimberly Gadette\n",
      "movie_id: 70 with predicted rating: 8.55143672333579\n"
     ]
    }
   ],
   "source": [
    "non_binary.nb_collaborative_filtering('Kimberly Gadette', 1)"
   ]
  },
  {
   "cell_type": "markdown",
   "metadata": {},
   "source": [
    "Top 2 Movies Recommendation for user 'Kimberly Gadette'"
   ]
  },
  {
   "cell_type": "code",
   "execution_count": 35,
   "metadata": {},
   "outputs": [
    {
     "name": "stdout",
     "output_type": "stream",
     "text": [
      "Top movies for reviewer 100: Kimberly Gadette\n",
      "movie_id: 953 with predicted rating: 8.39660744894544\n",
      "movie_id: 1777 with predicted rating: 8.424810613311283\n"
     ]
    }
   ],
   "source": [
    "non_binary.nb_collaborative_filtering('Kimberly Gadette', 2)"
   ]
  },
  {
   "cell_type": "markdown",
   "metadata": {},
   "source": [
    "Top 5 Movies Recommendation for user 'Kimberly Gadette'"
   ]
  },
  {
   "cell_type": "code",
   "execution_count": 36,
   "metadata": {},
   "outputs": [
    {
     "name": "stdout",
     "output_type": "stream",
     "text": [
      "Top movies for reviewer 100: Kimberly Gadette\n",
      "movie_id: 1976 with predicted rating: 8.242669429257\n",
      "movie_id: 823 with predicted rating: 8.254252795397328\n",
      "movie_id: 1067 with predicted rating: 8.296520526092193\n",
      "movie_id: 1777 with predicted rating: 8.467815373179347\n",
      "movie_id: 1579 with predicted rating: 8.320251386953064\n"
     ]
    }
   ],
   "source": [
    "non_binary.nb_collaborative_filtering('Kimberly Gadette', 5)"
   ]
  },
  {
   "cell_type": "markdown",
   "metadata": {},
   "source": [
    "### 3. Context-Aware Recommendation\n",
    "For context aware we decided to use information about genre, director and synopsis to improve our previous recommendations.\n",
    "\n",
    "With that in mind we will use, cosine similarity + natural language processing\n",
    "\n",
    "Based on:\n",
    "* https://towardsdatascience.com/how-to-build-from-scratch-a-content-based-movie-recommender-with-natural-language-processing-25ad400eb243"
   ]
  },
  {
   "cell_type": "code",
   "execution_count": 37,
   "metadata": {},
   "outputs": [],
   "source": [
    "from recommender_systems import ContextAware"
   ]
  },
  {
   "cell_type": "code",
   "execution_count": 38,
   "metadata": {},
   "outputs": [
    {
     "data": {
      "text/html": [
       "<div>\n",
       "<style scoped>\n",
       "    .dataframe tbody tr th:only-of-type {\n",
       "        vertical-align: middle;\n",
       "    }\n",
       "\n",
       "    .dataframe tbody tr th {\n",
       "        vertical-align: top;\n",
       "    }\n",
       "\n",
       "    .dataframe thead th {\n",
       "        text-align: right;\n",
       "    }\n",
       "</style>\n",
       "<table border=\"1\" class=\"dataframe\">\n",
       "  <thead>\n",
       "    <tr style=\"text-align: right;\">\n",
       "      <th></th>\n",
       "      <th>id</th>\n",
       "      <th>genre</th>\n",
       "      <th>director</th>\n",
       "      <th>key_words</th>\n",
       "    </tr>\n",
       "  </thead>\n",
       "  <tbody>\n",
       "    <tr>\n",
       "      <th>1</th>\n",
       "      <td>3</td>\n",
       "      <td>drama science fiction and fantasy</td>\n",
       "      <td>davidcronenberg</td>\n",
       "      <td>york virtual packer 28 wild year c civilizatio...</td>\n",
       "    </tr>\n",
       "    <tr>\n",
       "      <th>2</th>\n",
       "      <td>5</td>\n",
       "      <td>drama musical and performing arts</td>\n",
       "      <td>allisonanders</td>\n",
       "      <td>york name edna full performance jr contest two...</td>\n",
       "    </tr>\n",
       "    <tr>\n",
       "      <th>3</th>\n",
       "      <td>6</td>\n",
       "      <td>drama mystery and suspense</td>\n",
       "      <td>barrylevinson</td>\n",
       "      <td>computer based michael ) , firm afoul virtual ...</td>\n",
       "    </tr>\n",
       "    <tr>\n",
       "      <th>5</th>\n",
       "      <td>8</td>\n",
       "      <td>drama kids and family</td>\n",
       "      <td>jayrussell</td>\n",
       "      <td>1942 form veteran soldier baseball overseas fr...</td>\n",
       "    </tr>\n",
       "    <tr>\n",
       "      <th>6</th>\n",
       "      <td>10</td>\n",
       "      <td>comedy</td>\n",
       "      <td>jakekasdan</td>\n",
       "      <td>jake since comedy county starring lily refers ...</td>\n",
       "    </tr>\n",
       "  </tbody>\n",
       "</table>\n",
       "</div>"
      ],
      "text/plain": [
       "   id                              genre         director  \\\n",
       "1   3  drama science fiction and fantasy  davidcronenberg   \n",
       "2   5  drama musical and performing arts    allisonanders   \n",
       "3   6         drama mystery and suspense    barrylevinson   \n",
       "5   8              drama kids and family       jayrussell   \n",
       "6  10                             comedy       jakekasdan   \n",
       "\n",
       "                                           key_words  \n",
       "1  york virtual packer 28 wild year c civilizatio...  \n",
       "2  york name edna full performance jr contest two...  \n",
       "3  computer based michael ) , firm afoul virtual ...  \n",
       "5  1942 form veteran soldier baseball overseas fr...  \n",
       "6  jake since comedy county starring lily refers ...  "
      ]
     },
     "execution_count": 38,
     "metadata": {},
     "output_type": "execute_result"
    }
   ],
   "source": [
    "from recommender_systems import ContextAware\n",
    "context_aware = ContextAware(movie_info, reviews_rs, critics, critic_uid)\n",
    "context_aware.ca_df.head()"
   ]
  },
  {
   "cell_type": "code",
   "execution_count": 39,
   "metadata": {},
   "outputs": [
    {
     "data": {
      "text/html": [
       "<div>\n",
       "<style scoped>\n",
       "    .dataframe tbody tr th:only-of-type {\n",
       "        vertical-align: middle;\n",
       "    }\n",
       "\n",
       "    .dataframe tbody tr th {\n",
       "        vertical-align: top;\n",
       "    }\n",
       "\n",
       "    .dataframe thead th {\n",
       "        text-align: right;\n",
       "    }\n",
       "</style>\n",
       "<table border=\"1\" class=\"dataframe\">\n",
       "  <thead>\n",
       "    <tr style=\"text-align: right;\">\n",
       "      <th></th>\n",
       "      <th>all_words</th>\n",
       "    </tr>\n",
       "    <tr>\n",
       "      <th>id</th>\n",
       "      <th></th>\n",
       "    </tr>\n",
       "  </thead>\n",
       "  <tbody>\n",
       "    <tr>\n",
       "      <th>3</th>\n",
       "      <td>drama science fiction and fantasy davidcronenb...</td>\n",
       "    </tr>\n",
       "    <tr>\n",
       "      <th>5</th>\n",
       "      <td>drama musical and performing arts allisonander...</td>\n",
       "    </tr>\n",
       "    <tr>\n",
       "      <th>6</th>\n",
       "      <td>drama mystery and suspense barrylevinson compu...</td>\n",
       "    </tr>\n",
       "    <tr>\n",
       "      <th>8</th>\n",
       "      <td>drama kids and family jayrussell 1942 form vet...</td>\n",
       "    </tr>\n",
       "    <tr>\n",
       "      <th>10</th>\n",
       "      <td>comedy jakekasdan jake since comedy county sta...</td>\n",
       "    </tr>\n",
       "  </tbody>\n",
       "</table>\n",
       "</div>"
      ],
      "text/plain": [
       "                                            all_words\n",
       "id                                                   \n",
       "3   drama science fiction and fantasy davidcronenb...\n",
       "5   drama musical and performing arts allisonander...\n",
       "6   drama mystery and suspense barrylevinson compu...\n",
       "8   drama kids and family jayrussell 1942 form vet...\n",
       "10  comedy jakekasdan jake since comedy county sta..."
      ]
     },
     "execution_count": 39,
     "metadata": {},
     "output_type": "execute_result"
    }
   ],
   "source": [
    "context_aware.merge_columns()\n",
    "context_aware.ca_df.head()"
   ]
  },
  {
   "cell_type": "code",
   "execution_count": 40,
   "metadata": {},
   "outputs": [
    {
     "name": "stdout",
     "output_type": "stream",
     "text": [
      "[[1.         0.08087693 0.06182447 ... 0.07087699 0.03160698 0.08087693]\n",
      " [0.08087693 1.         0.06825236 ... 0.06520507 0.10467947 0.08333333]\n",
      " [0.06182447 0.06825236 1.         ... 0.02492224 0.08891084 0.09100315]\n",
      " ...\n",
      " [0.07087699 0.06520507 0.02492224 ... 1.         0.10192944 0.10432811]\n",
      " [0.03160698 0.10467947 0.08891084 ... 0.10192944 1.         0.16283474]\n",
      " [0.08087693 0.08333333 0.09100315 ... 0.10432811 0.16283474 1.        ]]\n"
     ]
    }
   ],
   "source": [
    "cosine_sim = context_aware.create_similarity_matrix()\n",
    "print(cosine_sim)"
   ]
  },
  {
   "cell_type": "markdown",
   "metadata": {},
   "source": [
    "Top 5 recommendations for movie id 3"
   ]
  },
  {
   "cell_type": "code",
   "execution_count": 41,
   "metadata": {},
   "outputs": [
    {
     "name": "stdout",
     "output_type": "stream",
     "text": [
      "Top movies similar to movie_id: 3\n",
      "movie_id: 406\n",
      "movie_id: 419\n",
      "movie_id: 1050\n",
      "movie_id: 453\n",
      "movie_id: 639\n"
     ]
    }
   ],
   "source": [
    "context_aware.get_recommendations(3, cosine_sim)"
   ]
  },
  {
   "cell_type": "markdown",
   "metadata": {},
   "source": [
    "Top 1 Movies Recommendation for user 'Kimberly Gadette'"
   ]
  },
  {
   "cell_type": "code",
   "execution_count": 42,
   "metadata": {},
   "outputs": [
    {
     "name": "stdout",
     "output_type": "stream",
     "text": [
      "Top movies for reviewer 100: Kimberly Gadette\n",
      "movie_id: 406\n"
     ]
    }
   ],
   "source": [
    "context_aware.get_recommendation_user('Kimberly Gadette', cosine_sim, 1)"
   ]
  },
  {
   "cell_type": "markdown",
   "metadata": {},
   "source": [
    "Top 2 Movies Recommendation for user 'Kimberly Gadette'"
   ]
  },
  {
   "cell_type": "code",
   "execution_count": 43,
   "metadata": {},
   "outputs": [
    {
     "name": "stdout",
     "output_type": "stream",
     "text": [
      "Top movies for reviewer 100: Kimberly Gadette\n",
      "movie_id: 406\n",
      "movie_id: 453\n"
     ]
    }
   ],
   "source": [
    "context_aware.get_recommendation_user('Kimberly Gadette', cosine_sim, 2)"
   ]
  },
  {
   "cell_type": "markdown",
   "metadata": {},
   "source": [
    "Top 5 Movies Recommendation for user 'Kimberly Gadette'"
   ]
  },
  {
   "cell_type": "code",
   "execution_count": 44,
   "metadata": {},
   "outputs": [
    {
     "name": "stdout",
     "output_type": "stream",
     "text": [
      "Top movies for reviewer 100: Kimberly Gadette\n",
      "movie_id: 406\n",
      "movie_id: 453\n",
      "movie_id: 1022\n",
      "movie_id: 1972\n",
      "movie_id: 561\n"
     ]
    }
   ],
   "source": [
    "context_aware.get_recommendation_user('Kimberly Gadette', cosine_sim, 5)"
   ]
  },
  {
   "cell_type": "markdown",
   "metadata": {},
   "source": [
    "# Conclusions, shortcomings and future work"
   ]
  },
  {
   "cell_type": "code",
   "execution_count": null,
   "metadata": {},
   "outputs": [],
   "source": []
  },
  {
   "cell_type": "markdown",
   "metadata": {},
   "source": [
    "# References"
   ]
  },
  {
   "cell_type": "markdown",
   "metadata": {},
   "source": [
    "* https://hackernoon.com/popularity-based-song-recommendation-system-without-any-library-in-python-12a4fbfd825e?gi=3c12b77c73f2\n",
    "* https://stackabuse.com/creating-a-simple-recommender-system-in-python-using-pandas/\n",
    "* https://towardsdatascience.com/building-a-movie-recommendation-engine-using-pandas-e0a105ed6762\n",
    "* https://towardsdatascience.com/how-to-build-a-simple-recommender-system-in-python-375093c3fb7d\n",
    "* https://blog.cambridgespark.com/tutorial-practical-introduction-to-recommender-systems-dbe22848392b\n",
    "* https://medium.com/radon-dev/item-item-collaborative-filtering-with-binary-or-unary-data-e8f0b465b2c3\n",
    "* https://blog.cambridgespark.com/tutorial-practical-introduction-to-recommender-systems-dbe22848392b\n",
    "* https://surprise.readthedocs.io/en/stable/matrix_factorization.html#surprise.prediction_algorithms.matrix_factorization.SVDpp\n",
    "* https://towardsdatascience.com/how-to-build-from-scratch-a-content-based-movie-recommender-with-natural-language-processing-25ad400eb243"
   ]
  }
 ],
 "metadata": {
  "kernelspec": {
   "display_name": "Python 3",
   "language": "python",
   "name": "python3"
  },
  "language_info": {
   "codemirror_mode": {
    "name": "ipython",
    "version": 3
   },
   "file_extension": ".py",
   "mimetype": "text/x-python",
   "name": "python",
   "nbconvert_exporter": "python",
   "pygments_lexer": "ipython3",
   "version": "3.5.2"
  }
 },
 "nbformat": 4,
 "nbformat_minor": 2
}
